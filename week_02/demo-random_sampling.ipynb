{
 "cells": [
  {
   "cell_type": "markdown",
   "metadata": {},
   "source": [
    "# Random Sampling"
   ]
  },
  {
   "cell_type": "markdown",
   "metadata": {},
   "source": [
    "Think back for a moment to quant methods with Coye. There, you spent time talking about *sampling*, which is the process of drawing data from a population of places that we could potentially draw that data from. \n",
    "\n",
    "Consider the following, vector, `population` which is arranged from lowest to highest."
   ]
  },
  {
   "cell_type": "code",
   "execution_count": 1,
   "metadata": {},
   "outputs": [],
   "source": [
    "import numpy as np \n",
    "import pandas as pd "
   ]
  },
  {
   "cell_type": "code",
   "execution_count": 2,
   "metadata": {},
   "outputs": [],
   "source": [
    "N = 1000\n",
    "population = np.random.normal(loc=10, scale=10, size=N)\n",
    "population = np.sort(population)"
   ]
  },
  {
   "cell_type": "markdown",
   "metadata": {},
   "source": [
    "In this vector, we've places 1,000 draws from a gaussian distribution with a mean of 10 and a standard deviation of 5. In this case, we can know that the population *parameter* **mean** is just:"
   ]
  },
  {
   "cell_type": "code",
   "execution_count": 3,
   "metadata": {},
   "outputs": [
    {
     "data": {
      "text/plain": [
       "9.9156957170544313"
      ]
     },
     "execution_count": 3,
     "metadata": {},
     "output_type": "execute_result"
    }
   ],
   "source": [
    "population.mean()"
   ]
  },
  {
   "cell_type": "markdown",
   "metadata": {},
   "source": [
    "There isn't any value statement that we are attaching to this parameter value, it just is the average of the population. \n",
    "\n",
    "What if, for some reason, we couldn't actually observe all of the values in the population. Either it would take too much time, or cost too much money. How could we produce an *estimate* of the population parameter that we're interested in? \n",
    "\n",
    "1. A *bad* estimate might just take the first 10 data value that we observe, and add them up. `population[:9].sum()`. \n",
    "\n",
    "Why is this a bad estimate? Well, there just isn't any clear relationship between the **sample** that we're drawing and then applying a function across, and the parameter that we're interested in. That is, the *estimator* that we've produced just doesn't provide us an unbiased estimate of the population parameter. In particular, it is always going to underestimate the true value. "
   ]
  },
  {
   "cell_type": "code",
   "execution_count": 4,
   "metadata": {
    "lines_to_next_cell": 2
   },
   "outputs": [
    {
     "data": {
      "text/plain": [
       "-145.62388471995698"
      ]
     },
     "execution_count": 4,
     "metadata": {},
     "output_type": "execute_result"
    }
   ],
   "source": [
    "population[:9].sum()"
   ]
  },
  {
   "cell_type": "markdown",
   "metadata": {},
   "source": [
    "2. The choice to sum those values seems pretty illogical, right? What if, instead, we were to take the average of them. Would this estimator produce an estimate of the population parameter we're looking for that is any less biased? "
   ]
  },
  {
   "cell_type": "code",
   "execution_count": 5,
   "metadata": {},
   "outputs": [
    {
     "data": {
      "text/plain": [
       "-16.180431635550775"
      ]
     },
     "execution_count": 5,
     "metadata": {},
     "output_type": "execute_result"
    }
   ],
   "source": [
    "population[:9].mean()"
   ]
  },
  {
   "cell_type": "markdown",
   "metadata": {},
   "source": [
    "Not really. Although there is a more natural relationship between the function we're applying to the sample and the population parameter we're looing for -- the population average -- the sample we're drawing from is still systematically different from the population. Specifically, it is always on the *low* side of the average, right? \n",
    "\n",
    "And so, this estimator is going to  remain a **biased estimator** for any sample size that is smaller than the whole population. \n",
    "\n",
    "Interestingly, however, as the size of the sample gets larger, the estimate that the estimator produces gets closer to the truth. When this is the case, we say that the estimator is **consistent.** Although it might be biased in any finite sample, it produces a consistent estimate in an infinate sample. "
   ]
  },
  {
   "cell_type": "code",
   "execution_count": 6,
   "metadata": {},
   "outputs": [],
   "source": [
    "sample_1 = population[:9].mean()\n",
    "sample_2 = population[:100].mean()\n",
    "sample_3 = population[:999].mean()"
   ]
  },
  {
   "cell_type": "code",
   "execution_count": 7,
   "metadata": {},
   "outputs": [
    {
     "data": {
      "text/plain": [
       "'Sample 1: -16.180431635550775'"
      ]
     },
     "execution_count": 7,
     "metadata": {},
     "output_type": "execute_result"
    }
   ],
   "source": [
    "f'Sample 1: {sample_1}' "
   ]
  },
  {
   "cell_type": "code",
   "execution_count": 8,
   "metadata": {},
   "outputs": [
    {
     "data": {
      "text/plain": [
       "'Sample 2: -7.177306697103318'"
      ]
     },
     "execution_count": 8,
     "metadata": {},
     "output_type": "execute_result"
    }
   ],
   "source": [
    "f'Sample 2: {sample_2}'"
   ]
  },
  {
   "cell_type": "code",
   "execution_count": 9,
   "metadata": {},
   "outputs": [
    {
     "data": {
      "text/plain": [
       "'Sample 3: 9.884058346917456'"
      ]
     },
     "execution_count": 9,
     "metadata": {},
     "output_type": "execute_result"
    }
   ],
   "source": [
    "f'Sample 3: {sample_3}'"
   ]
  },
  {
   "cell_type": "markdown",
   "metadata": {},
   "source": [
    "Would you say that the first estimator we were using -- the sum of the sample -- was a consistent estimator? Why or why not? "
   ]
  },
  {
   "cell_type": "markdown",
   "metadata": {},
   "source": [
    "# A natural estimator\n",
    "\n",
    "Of course, the natural estimator that you probably had in mind was: \n",
    "\n",
    "1. Take a random sample, and \n",
    "2. Apply the sample mean function onto that sample. \n",
    "\n",
    "Good idea! This estimator -- the sample mean -- is going to be an unbiased, consistent estimate of the population parameter we're interested in. \n",
    "\n",
    "One way to make the random sample is just to use the `sample` function, and to provide a vector of integers that we want to sample from. "
   ]
  },
  {
   "cell_type": "code",
   "execution_count": 10,
   "metadata": {},
   "outputs": [
    {
     "data": {
      "text/plain": [
       "0"
      ]
     },
     "execution_count": 10,
     "metadata": {},
     "output_type": "execute_result"
    }
   ],
   "source": [
    "small_pop = np.arange(10)\n",
    "np.random.choice(small_pop)"
   ]
  },
  {
   "cell_type": "markdown",
   "metadata": {},
   "source": [
    "If we call `np.random.choice` with out any other arguments, we're going to pull a single draw from the population. What we really want is a group of samples though, so we'll add an argument to increase the number. "
   ]
  },
  {
   "cell_type": "code",
   "execution_count": 11,
   "metadata": {},
   "outputs": [
    {
     "data": {
      "text/plain": [
       "array([9, 6, 8, 2, 5])"
      ]
     },
     "execution_count": 11,
     "metadata": {},
     "output_type": "execute_result"
    }
   ],
   "source": [
    "np.random.choice(small_pop, size=5, replace=False)"
   ]
  },
  {
   "cell_type": "markdown",
   "metadata": {},
   "source": [
    "If you pass a size argument, you'll pull a sample that is of that size. We can use these values as positional indexes in the vector that we're sampling from. For example, if our population is the set of the first ten letters, "
   ]
  },
  {
   "cell_type": "code",
   "execution_count": 12,
   "metadata": {
    "lines_to_next_cell": 0
   },
   "outputs": [],
   "source": [
    "sample_mean_1a  = np.random.choice(population, replace=False, size=10).mean()\n",
    "sample_mean_1b = np.random.choice(population, replace=False, size=100).mean()\n",
    "sample_mean_2 = np.random.choice(population, replace=False, size=100).mean()\n",
    "sample_mean_3  = np.random.choice(population, replace=False, size=999).mean()"
   ]
  },
  {
   "cell_type": "code",
   "execution_count": 13,
   "metadata": {},
   "outputs": [
    {
     "data": {
      "text/plain": [
       "5.3858784315362165"
      ]
     },
     "execution_count": 13,
     "metadata": {},
     "output_type": "execute_result"
    }
   ],
   "source": [
    "sample_mean_1a"
   ]
  },
  {
   "cell_type": "code",
   "execution_count": 14,
   "metadata": {},
   "outputs": [
    {
     "data": {
      "text/plain": [
       "9.9272463722901669"
      ]
     },
     "execution_count": 14,
     "metadata": {},
     "output_type": "execute_result"
    }
   ],
   "source": [
    "sample_mean_1b"
   ]
  },
  {
   "cell_type": "code",
   "execution_count": 15,
   "metadata": {},
   "outputs": [
    {
     "data": {
      "text/plain": [
       "9.3900048740046227"
      ]
     },
     "execution_count": 15,
     "metadata": {},
     "output_type": "execute_result"
    }
   ],
   "source": [
    "sample_mean_2"
   ]
  },
  {
   "cell_type": "code",
   "execution_count": 16,
   "metadata": {},
   "outputs": [
    {
     "data": {
      "text/plain": [
       "9.9100982707701206"
      ]
     },
     "execution_count": 16,
     "metadata": {},
     "output_type": "execute_result"
    }
   ],
   "source": [
    "sample_mean_3"
   ]
  },
  {
   "cell_type": "markdown",
   "metadata": {},
   "source": [
    "# Questions for Understanding \n",
    "\n",
    "1. Are you surprisred that the values are not all the same? Why or why not? Are you surprised that the `sample_mean_2a` and `sample_mean_2b` are not exactly the same? Aren't they the same size? \n",
    "\n",
    "2. As the size of the sample that you take gets larger, will the estimate that you calculate tend to get closer to the truth, farther from the truth, or stay the same distance from the truth? Why? "
   ]
  }
 ],
 "metadata": {
  "jupytext": {
   "cell_metadata_filter": "-all",
   "main_language": "R",
   "notebook_metadata_filter": "-all"
  },
  "kernelspec": {
   "display_name": "Python 3",
   "language": "python",
   "name": "python3"
  },
  "language_info": {
   "codemirror_mode": {
    "name": "ipython",
    "version": 3
   },
   "file_extension": ".py",
   "mimetype": "text/x-python",
   "name": "python",
   "nbconvert_exporter": "python",
   "pygments_lexer": "ipython3",
   "version": "3.6.4"
  }
 },
 "nbformat": 4,
 "nbformat_minor": 2
}
