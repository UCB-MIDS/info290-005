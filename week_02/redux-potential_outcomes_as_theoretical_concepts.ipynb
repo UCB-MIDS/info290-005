{
 "cells": [
  {
   "cell_type": "markdown",
   "metadata": {},
   "source": [
    "# Week 2: Potential Outcomes\n",
    "\n",
    "The concept of potential outcomes are foundational to the reasoning system that we're going to use for the course. They allow us to think about, with considerably clarity, the comparisons that we want to make, and **exactly** why these comparisons are *causal*. \n",
    "\n",
    "But, despite the somewhat obtuse language that we might use when we're talking about potential outcomes (e.g. \"The potential outcome to treatment, when a unit is assigned to treatment.\") the math surrounding potential outcomes is actually pretty straightforward. \n",
    "\n",
    "# Create Data \n",
    "Let's make some toy data that we can use through this demo. \n",
    "\n",
    "Suppose that we have 1,000 individuals that we can observe in our study. Furthermore, suppose that for each of these people, there is some *latent*, or unmeasured, response to treatment that they *would* have to treatment if we assigned them to take the treatemnt. \n",
    "\n",
    "You might think of this as an unknowable population-level parameter that we're trying to estimate from empirical data. In this worksheet, we're going to make the data so that the causal parameter $\\tau$ has a mean value of 2. But, you could imagine that some other treatment has a mean value of 100. Or, for some third treatment it could have a mean value of zero, in which case we would say there there is *no* treatment effect. \n",
    "\n",
    "For concreteness, suppose that the treatment is assigning people to drink [coffee](https://www.aldeacoffee.com)."
   ]
  },
  {
   "cell_type": "code",
   "execution_count": 1,
   "metadata": {},
   "outputs": [],
   "source": [
    "import pandas as pd \n",
    "import numpy as np "
   ]
  },
  {
   "cell_type": "code",
   "execution_count": 3,
   "metadata": {},
   "outputs": [],
   "source": [
    "NROWS = 1000\n",
    "\n",
    "d = pd.DataFrame({\n",
    "    'id'  : np.arange(0,NROWS)\n",
    "})"
   ]
  },
  {
   "cell_type": "markdown",
   "metadata": {},
   "source": [
    "Let's build more into our data, like, that some of the people are tall, while others are short; and some are young, while others are old. \n"
   ]
  },
  {
   "cell_type": "code",
   "execution_count": 4,
   "metadata": {},
   "outputs": [],
   "source": [
    "d['height'] = np.random.choice(a=['tall', 'short'], replace=True, size=NROWS)\n",
    "d['age']    = np.random.choice(a=['young', 'old'] , replace=True, size=NROWS)"
   ]
  },
  {
   "cell_type": "code",
   "execution_count": 5,
   "metadata": {},
   "outputs": [
    {
     "data": {
      "text/html": [
       "<div>\n",
       "<style scoped>\n",
       "    .dataframe tbody tr th:only-of-type {\n",
       "        vertical-align: middle;\n",
       "    }\n",
       "\n",
       "    .dataframe tbody tr th {\n",
       "        vertical-align: top;\n",
       "    }\n",
       "\n",
       "    .dataframe thead th {\n",
       "        text-align: right;\n",
       "    }\n",
       "</style>\n",
       "<table border=\"1\" class=\"dataframe\">\n",
       "  <thead>\n",
       "    <tr style=\"text-align: right;\">\n",
       "      <th></th>\n",
       "      <th>id</th>\n",
       "      <th>height</th>\n",
       "      <th>age</th>\n",
       "    </tr>\n",
       "  </thead>\n",
       "  <tbody>\n",
       "    <tr>\n",
       "      <th>0</th>\n",
       "      <td>0</td>\n",
       "      <td>short</td>\n",
       "      <td>young</td>\n",
       "    </tr>\n",
       "    <tr>\n",
       "      <th>1</th>\n",
       "      <td>1</td>\n",
       "      <td>short</td>\n",
       "      <td>young</td>\n",
       "    </tr>\n",
       "    <tr>\n",
       "      <th>2</th>\n",
       "      <td>2</td>\n",
       "      <td>tall</td>\n",
       "      <td>old</td>\n",
       "    </tr>\n",
       "    <tr>\n",
       "      <th>3</th>\n",
       "      <td>3</td>\n",
       "      <td>short</td>\n",
       "      <td>young</td>\n",
       "    </tr>\n",
       "    <tr>\n",
       "      <th>4</th>\n",
       "      <td>4</td>\n",
       "      <td>tall</td>\n",
       "      <td>old</td>\n",
       "    </tr>\n",
       "  </tbody>\n",
       "</table>\n",
       "</div>"
      ],
      "text/plain": [
       "   id height    age\n",
       "0   0  short  young\n",
       "1   1  short  young\n",
       "2   2   tall    old\n",
       "3   3  short  young\n",
       "4   4   tall    old"
      ]
     },
     "execution_count": 5,
     "metadata": {},
     "output_type": "execute_result"
    }
   ],
   "source": [
    "d.head()"
   ]
  },
  {
   "cell_type": "code",
   "execution_count": 6,
   "metadata": {},
   "outputs": [
    {
     "data": {
      "text/html": [
       "<div>\n",
       "<style scoped>\n",
       "    .dataframe tbody tr th:only-of-type {\n",
       "        vertical-align: middle;\n",
       "    }\n",
       "\n",
       "    .dataframe tbody tr th {\n",
       "        vertical-align: top;\n",
       "    }\n",
       "\n",
       "    .dataframe thead th {\n",
       "        text-align: right;\n",
       "    }\n",
       "</style>\n",
       "<table border=\"1\" class=\"dataframe\">\n",
       "  <thead>\n",
       "    <tr style=\"text-align: right;\">\n",
       "      <th></th>\n",
       "      <th>id</th>\n",
       "      <th>height</th>\n",
       "      <th>age</th>\n",
       "    </tr>\n",
       "  </thead>\n",
       "  <tbody>\n",
       "    <tr>\n",
       "      <th>0</th>\n",
       "      <td>0</td>\n",
       "      <td>short</td>\n",
       "      <td>young</td>\n",
       "    </tr>\n",
       "    <tr>\n",
       "      <th>1</th>\n",
       "      <td>1</td>\n",
       "      <td>short</td>\n",
       "      <td>young</td>\n",
       "    </tr>\n",
       "    <tr>\n",
       "      <th>2</th>\n",
       "      <td>2</td>\n",
       "      <td>tall</td>\n",
       "      <td>old</td>\n",
       "    </tr>\n",
       "    <tr>\n",
       "      <th>3</th>\n",
       "      <td>3</td>\n",
       "      <td>short</td>\n",
       "      <td>young</td>\n",
       "    </tr>\n",
       "    <tr>\n",
       "      <th>4</th>\n",
       "      <td>4</td>\n",
       "      <td>tall</td>\n",
       "      <td>old</td>\n",
       "    </tr>\n",
       "  </tbody>\n",
       "</table>\n",
       "</div>"
      ],
      "text/plain": [
       "   id height    age\n",
       "0   0  short  young\n",
       "1   1  short  young\n",
       "2   2   tall    old\n",
       "3   3  short  young\n",
       "4   4   tall    old"
      ]
     },
     "execution_count": 6,
     "metadata": {},
     "output_type": "execute_result"
    }
   ],
   "source": [
    "d.head()"
   ]
  },
  {
   "cell_type": "markdown",
   "metadata": {},
   "source": [
    "In just exactly the same way, we can also think of our units having levels of *potential outcomes to control*. That is, we can suppose that people have some level of the outcome in the case that they do not drink any coffee. For concreteness, suppose that the outcome is people's number of minutes of 241 coding they can accomplish, before they fall asleep. \n",
    "\n",
    "There might (or might not) be a relationship between our non-experimentally assigned outcomes. In the example we're working with here, suppose that there is no relationship between height and minutes of coding; but that there is a positive relationship between age and minutes of coding. \n",
    "\n",
    "This might be represented in our data in the following way: The mean number of minutes that someone can work is 10, plus, if they're old (ahem... seasoned, disciplined) they are able to work for an additional 5 minutes on avergae. But, also assume that there is some noise in this relationship. "
   ]
  },
  {
   "cell_type": "markdown",
   "metadata": {},
   "source": [
    "## Potential Outcomes to Control "
   ]
  },
  {
   "cell_type": "code",
   "execution_count": 7,
   "metadata": {},
   "outputs": [],
   "source": [
    "d['y0'] = 10 + (d['age'] == 'old') * 2 \\\n",
    "  + np.random.normal(size=NROWS, loc=0, scale=1)"
   ]
  },
  {
   "cell_type": "code",
   "execution_count": 8,
   "metadata": {},
   "outputs": [
    {
     "data": {
      "text/html": [
       "<div>\n",
       "<style scoped>\n",
       "    .dataframe tbody tr th:only-of-type {\n",
       "        vertical-align: middle;\n",
       "    }\n",
       "\n",
       "    .dataframe tbody tr th {\n",
       "        vertical-align: top;\n",
       "    }\n",
       "\n",
       "    .dataframe thead th {\n",
       "        text-align: right;\n",
       "    }\n",
       "</style>\n",
       "<table border=\"1\" class=\"dataframe\">\n",
       "  <thead>\n",
       "    <tr style=\"text-align: right;\">\n",
       "      <th></th>\n",
       "      <th>id</th>\n",
       "      <th>height</th>\n",
       "      <th>age</th>\n",
       "      <th>y0</th>\n",
       "    </tr>\n",
       "  </thead>\n",
       "  <tbody>\n",
       "    <tr>\n",
       "      <th>0</th>\n",
       "      <td>0</td>\n",
       "      <td>short</td>\n",
       "      <td>young</td>\n",
       "      <td>9.555415</td>\n",
       "    </tr>\n",
       "    <tr>\n",
       "      <th>1</th>\n",
       "      <td>1</td>\n",
       "      <td>short</td>\n",
       "      <td>young</td>\n",
       "      <td>10.444188</td>\n",
       "    </tr>\n",
       "    <tr>\n",
       "      <th>2</th>\n",
       "      <td>2</td>\n",
       "      <td>tall</td>\n",
       "      <td>old</td>\n",
       "      <td>11.479307</td>\n",
       "    </tr>\n",
       "    <tr>\n",
       "      <th>3</th>\n",
       "      <td>3</td>\n",
       "      <td>short</td>\n",
       "      <td>young</td>\n",
       "      <td>12.241072</td>\n",
       "    </tr>\n",
       "    <tr>\n",
       "      <th>4</th>\n",
       "      <td>4</td>\n",
       "      <td>tall</td>\n",
       "      <td>old</td>\n",
       "      <td>12.997396</td>\n",
       "    </tr>\n",
       "  </tbody>\n",
       "</table>\n",
       "</div>"
      ],
      "text/plain": [
       "   id height    age         y0\n",
       "0   0  short  young   9.555415\n",
       "1   1  short  young  10.444188\n",
       "2   2   tall    old  11.479307\n",
       "3   3  short  young  12.241072\n",
       "4   4   tall    old  12.997396"
      ]
     },
     "execution_count": 8,
     "metadata": {},
     "output_type": "execute_result"
    }
   ],
   "source": [
    "d.head()"
   ]
  },
  {
   "cell_type": "markdown",
   "metadata": {},
   "source": [
    "Notice that there is no relationship between height and potential outcomes to control; and also notice that the \"noise\" in the relationship is represented in the draw from the normal distribution with mean 0. "
   ]
  },
  {
   "cell_type": "markdown",
   "metadata": {},
   "source": [
    "## Potential Outcomes to Treatment \n",
    "\n",
    "We've defined a *treatment effect* as the difference between a unit's potential outcome to treatment and their potential outcome to control. But, right now, we've only got one of those, the `y0`. \n",
    "\n",
    "Lets suppose that, since caffiene is a drug, and people are people, that there is some common response to the drug. \n",
    "\n",
    "However, because people are also people, not everybody reacts in exactly the same way; some people beome more attentive than others; some less than others. "
   ]
  },
  {
   "cell_type": "code",
   "execution_count": 10,
   "metadata": {},
   "outputs": [],
   "source": [
    "d['tau'] = np.random.normal(loc=2, scale=2, size=NROWS)"
   ]
  },
  {
   "cell_type": "markdown",
   "metadata": {},
   "source": [
    "Now, if know each person's *causal effect*, then I suppose we also know their potential outcomes to **treatment**, right?"
   ]
  },
  {
   "cell_type": "code",
   "execution_count": 11,
   "metadata": {},
   "outputs": [],
   "source": [
    "d['y1'] = d['y0'] + d['tau']"
   ]
  },
  {
   "cell_type": "markdown",
   "metadata": {},
   "source": [
    "And so, we can represent this **science table** -- the set of all potentially realizable outcomes. "
   ]
  },
  {
   "cell_type": "code",
   "execution_count": 12,
   "metadata": {},
   "outputs": [
    {
     "data": {
      "text/html": [
       "<div>\n",
       "<style scoped>\n",
       "    .dataframe tbody tr th:only-of-type {\n",
       "        vertical-align: middle;\n",
       "    }\n",
       "\n",
       "    .dataframe tbody tr th {\n",
       "        vertical-align: top;\n",
       "    }\n",
       "\n",
       "    .dataframe thead th {\n",
       "        text-align: right;\n",
       "    }\n",
       "</style>\n",
       "<table border=\"1\" class=\"dataframe\">\n",
       "  <thead>\n",
       "    <tr style=\"text-align: right;\">\n",
       "      <th></th>\n",
       "      <th>id</th>\n",
       "      <th>height</th>\n",
       "      <th>age</th>\n",
       "      <th>y0</th>\n",
       "      <th>tau</th>\n",
       "      <th>y1</th>\n",
       "    </tr>\n",
       "  </thead>\n",
       "  <tbody>\n",
       "    <tr>\n",
       "      <th>0</th>\n",
       "      <td>0</td>\n",
       "      <td>short</td>\n",
       "      <td>young</td>\n",
       "      <td>9.555415</td>\n",
       "      <td>2.838994</td>\n",
       "      <td>12.394410</td>\n",
       "    </tr>\n",
       "    <tr>\n",
       "      <th>1</th>\n",
       "      <td>1</td>\n",
       "      <td>short</td>\n",
       "      <td>young</td>\n",
       "      <td>10.444188</td>\n",
       "      <td>-3.475198</td>\n",
       "      <td>6.968990</td>\n",
       "    </tr>\n",
       "    <tr>\n",
       "      <th>2</th>\n",
       "      <td>2</td>\n",
       "      <td>tall</td>\n",
       "      <td>old</td>\n",
       "      <td>11.479307</td>\n",
       "      <td>1.439453</td>\n",
       "      <td>12.918760</td>\n",
       "    </tr>\n",
       "    <tr>\n",
       "      <th>3</th>\n",
       "      <td>3</td>\n",
       "      <td>short</td>\n",
       "      <td>young</td>\n",
       "      <td>12.241072</td>\n",
       "      <td>2.133776</td>\n",
       "      <td>14.374848</td>\n",
       "    </tr>\n",
       "    <tr>\n",
       "      <th>4</th>\n",
       "      <td>4</td>\n",
       "      <td>tall</td>\n",
       "      <td>old</td>\n",
       "      <td>12.997396</td>\n",
       "      <td>3.355633</td>\n",
       "      <td>16.353029</td>\n",
       "    </tr>\n",
       "  </tbody>\n",
       "</table>\n",
       "</div>"
      ],
      "text/plain": [
       "   id height    age         y0       tau         y1\n",
       "0   0  short  young   9.555415  2.838994  12.394410\n",
       "1   1  short  young  10.444188 -3.475198   6.968990\n",
       "2   2   tall    old  11.479307  1.439453  12.918760\n",
       "3   3  short  young  12.241072  2.133776  14.374848\n",
       "4   4   tall    old  12.997396  3.355633  16.353029"
      ]
     },
     "execution_count": 12,
     "metadata": {},
     "output_type": "execute_result"
    }
   ],
   "source": [
    "d.head()"
   ]
  },
  {
   "cell_type": "markdown",
   "metadata": {},
   "source": [
    "## Questions for Understanding \n",
    "1. On average, will people who are older tend to be taller, shorter, or about the same height, and people who are younger? \n",
    "2. On average, will people who are older tend to have higher or lower potential outcomes to control? \n",
    "3. On average, will people who are older tend to have higher or lower potential outcomes to treatment? \n",
    "4. **Most importantly**: If these are *potential outcomes* then, can we empirically observe any of these outcomes? \n"
   ]
  },
  {
   "cell_type": "code",
   "execution_count": null,
   "metadata": {},
   "outputs": [],
   "source": [
    "# question 1 "
   ]
  },
  {
   "cell_type": "code",
   "execution_count": null,
   "metadata": {},
   "outputs": [],
   "source": [
    "# question 2 "
   ]
  },
  {
   "cell_type": "code",
   "execution_count": null,
   "metadata": {},
   "outputs": [],
   "source": [
    "# question 3"
   ]
  },
  {
   "cell_type": "code",
   "execution_count": null,
   "metadata": {},
   "outputs": [],
   "source": [
    "# question 4 "
   ]
  },
  {
   "cell_type": "markdown",
   "metadata": {},
   "source": [
    "# Run Your Experiment \n",
    "\n",
    "To this point, we've been working in the *potential outcomes space*. One way that you might think about this is as though these are the measurement that our population of people are going to walk into the expeiment having -- but we haven't measured them yet, so we don't know what they are! That is, suppose we have the whole cohort of students who are enrolled in 241, and they're going to start the coffee drinking experiment in Week 3. In Week 2, they all are either young/old, short/tall, and have innate abilities to focus, *we as the experimenters just don't know them yet!*. \n",
    "\n",
    "When we run the experiment, we accomplish several things: \n",
    "\n",
    "1. We intervene in their lives to force a particular experience; \n",
    "2. As a result of our intervention, we *reveal* either potential outcomes to treatment or control for each subject, and we measure this. \n",
    "3. We measure outcomes from our subjects;\n",
    "\n",
    "Each of these require considerable care; the first two are principle goals of this course. The last is *equally* important; and there are entire courses and disciplines that surround the theory or measurement. We're going to work on this as an *off-label* goal of the course. \n",
    "\n",
    "In this experiment, the way that we are interviening in people's lives is to either give them *coffee* or *decaf coffee*. \n"
   ]
  },
  {
   "cell_type": "code",
   "execution_count": 13,
   "metadata": {},
   "outputs": [],
   "source": [
    "d['treat'] = np.random.choice(a=[0,1], replace=True, size=NROWS)"
   ]
  },
  {
   "cell_type": "markdown",
   "metadata": {},
   "source": [
    "Then, and only then, we're also able to make some of their potential outcomes measurable. "
   ]
  },
  {
   "cell_type": "code",
   "execution_count": 14,
   "metadata": {},
   "outputs": [],
   "source": [
    "d['Y'] = d['y0'] * (d['treat'] == 0) + d['y1'] * (d['treat'] == 1)"
   ]
  },
  {
   "cell_type": "markdown",
   "metadata": {},
   "source": [
    "What data do we have now? "
   ]
  },
  {
   "cell_type": "code",
   "execution_count": 15,
   "metadata": {},
   "outputs": [
    {
     "data": {
      "text/html": [
       "<div>\n",
       "<style scoped>\n",
       "    .dataframe tbody tr th:only-of-type {\n",
       "        vertical-align: middle;\n",
       "    }\n",
       "\n",
       "    .dataframe tbody tr th {\n",
       "        vertical-align: top;\n",
       "    }\n",
       "\n",
       "    .dataframe thead th {\n",
       "        text-align: right;\n",
       "    }\n",
       "</style>\n",
       "<table border=\"1\" class=\"dataframe\">\n",
       "  <thead>\n",
       "    <tr style=\"text-align: right;\">\n",
       "      <th></th>\n",
       "      <th>id</th>\n",
       "      <th>height</th>\n",
       "      <th>age</th>\n",
       "      <th>y0</th>\n",
       "      <th>tau</th>\n",
       "      <th>y1</th>\n",
       "      <th>treat</th>\n",
       "      <th>Y</th>\n",
       "    </tr>\n",
       "  </thead>\n",
       "  <tbody>\n",
       "    <tr>\n",
       "      <th>0</th>\n",
       "      <td>0</td>\n",
       "      <td>short</td>\n",
       "      <td>young</td>\n",
       "      <td>9.555415</td>\n",
       "      <td>2.838994</td>\n",
       "      <td>12.394410</td>\n",
       "      <td>0</td>\n",
       "      <td>9.555415</td>\n",
       "    </tr>\n",
       "    <tr>\n",
       "      <th>1</th>\n",
       "      <td>1</td>\n",
       "      <td>short</td>\n",
       "      <td>young</td>\n",
       "      <td>10.444188</td>\n",
       "      <td>-3.475198</td>\n",
       "      <td>6.968990</td>\n",
       "      <td>1</td>\n",
       "      <td>6.968990</td>\n",
       "    </tr>\n",
       "    <tr>\n",
       "      <th>2</th>\n",
       "      <td>2</td>\n",
       "      <td>tall</td>\n",
       "      <td>old</td>\n",
       "      <td>11.479307</td>\n",
       "      <td>1.439453</td>\n",
       "      <td>12.918760</td>\n",
       "      <td>1</td>\n",
       "      <td>12.918760</td>\n",
       "    </tr>\n",
       "    <tr>\n",
       "      <th>3</th>\n",
       "      <td>3</td>\n",
       "      <td>short</td>\n",
       "      <td>young</td>\n",
       "      <td>12.241072</td>\n",
       "      <td>2.133776</td>\n",
       "      <td>14.374848</td>\n",
       "      <td>0</td>\n",
       "      <td>12.241072</td>\n",
       "    </tr>\n",
       "    <tr>\n",
       "      <th>4</th>\n",
       "      <td>4</td>\n",
       "      <td>tall</td>\n",
       "      <td>old</td>\n",
       "      <td>12.997396</td>\n",
       "      <td>3.355633</td>\n",
       "      <td>16.353029</td>\n",
       "      <td>1</td>\n",
       "      <td>16.353029</td>\n",
       "    </tr>\n",
       "  </tbody>\n",
       "</table>\n",
       "</div>"
      ],
      "text/plain": [
       "   id height    age         y0       tau         y1  treat          Y\n",
       "0   0  short  young   9.555415  2.838994  12.394410      0   9.555415\n",
       "1   1  short  young  10.444188 -3.475198   6.968990      1   6.968990\n",
       "2   2   tall    old  11.479307  1.439453  12.918760      1  12.918760\n",
       "3   3  short  young  12.241072  2.133776  14.374848      0  12.241072\n",
       "4   4   tall    old  12.997396  3.355633  16.353029      1  16.353029"
      ]
     },
     "execution_count": 15,
     "metadata": {},
     "output_type": "execute_result"
    }
   ],
   "source": [
    "d.head()"
   ]
  },
  {
   "cell_type": "markdown",
   "metadata": {},
   "source": [
    "This, above, is the \"science table\" that is represented in *Field Experiments* as table 2.1. But, are we ever able to see all of these in the experient that we conduct? "
   ]
  },
  {
   "cell_type": "markdown",
   "metadata": {},
   "source": [
    "## Estimating Causal Quantities from All of the Data \n",
    "\n",
    "Suppose for a moment that we *could* observe parts of the science table. In particular, suppose that we had access to everybody's potential outcomes to treatment and control, but not their treatment effect. Could we make an estimate about the average treatment effect then? Sure! \n"
   ]
  },
  {
   "cell_type": "code",
   "execution_count": 22,
   "metadata": {},
   "outputs": [
    {
     "data": {
      "text/plain": [
       "0    2.838994\n",
       "1   -3.475198\n",
       "2    1.439453\n",
       "3    2.133776\n",
       "4    3.355633\n",
       "dtype: float64"
      ]
     },
     "execution_count": 22,
     "metadata": {},
     "output_type": "execute_result"
    }
   ],
   "source": [
    "calculated_effects = d['y1'] - d['y0']\n",
    "calculated_effects.head()"
   ]
  },
  {
   "cell_type": "markdown",
   "metadata": {},
   "source": [
    "And so, what is the average of these?"
   ]
  },
  {
   "cell_type": "code",
   "execution_count": 64,
   "metadata": {},
   "outputs": [
    {
     "data": {
      "text/plain": [
       "2.0864820681426584"
      ]
     },
     "execution_count": 64,
     "metadata": {},
     "output_type": "execute_result"
    }
   ],
   "source": [
    "calculated_effects.mean()"
   ]
  },
  {
   "cell_type": "code",
   "execution_count": 17,
   "metadata": {},
   "outputs": [
    {
     "data": {
      "text/plain": [
       "1.890161613393389"
      ]
     },
     "execution_count": 17,
     "metadata": {},
     "output_type": "execute_result"
    }
   ],
   "source": [
    "mean_tau = d['tau'].mean()\n",
    "mean_tau"
   ]
  },
  {
   "cell_type": "code",
   "execution_count": 24,
   "metadata": {},
   "outputs": [
    {
     "data": {
      "text/plain": [
       "True"
      ]
     },
     "execution_count": 24,
     "metadata": {},
     "output_type": "execute_result"
    }
   ],
   "source": [
    "np.isclose(mean_tau, calculated_effects.mean())"
   ]
  },
  {
   "cell_type": "markdown",
   "metadata": {},
   "source": [
    "## Why only some of? \n",
    "\n",
    "Why are we only able to measure some of people's potential outcomes? We're only able to measure the potential outcomes that are consistent with the treatment that we actually give people. \n",
    "\n",
    "And, so, while the *science table* might contain information about each persons potential outcomes to treamtent and control, the table of data that we're ever going to be able to generate has a more restricted set. Call this observable data set `obs`, and it is a subset of all the data that might be out there."
   ]
  },
  {
   "cell_type": "code",
   "execution_count": 16,
   "metadata": {},
   "outputs": [
    {
     "data": {
      "text/html": [
       "<div>\n",
       "<style scoped>\n",
       "    .dataframe tbody tr th:only-of-type {\n",
       "        vertical-align: middle;\n",
       "    }\n",
       "\n",
       "    .dataframe tbody tr th {\n",
       "        vertical-align: top;\n",
       "    }\n",
       "\n",
       "    .dataframe thead th {\n",
       "        text-align: right;\n",
       "    }\n",
       "</style>\n",
       "<table border=\"1\" class=\"dataframe\">\n",
       "  <thead>\n",
       "    <tr style=\"text-align: right;\">\n",
       "      <th></th>\n",
       "      <th>id</th>\n",
       "      <th>height</th>\n",
       "      <th>age</th>\n",
       "      <th>treat</th>\n",
       "      <th>Y</th>\n",
       "    </tr>\n",
       "  </thead>\n",
       "  <tbody>\n",
       "    <tr>\n",
       "      <th>0</th>\n",
       "      <td>0</td>\n",
       "      <td>short</td>\n",
       "      <td>young</td>\n",
       "      <td>0</td>\n",
       "      <td>9.555415</td>\n",
       "    </tr>\n",
       "    <tr>\n",
       "      <th>1</th>\n",
       "      <td>1</td>\n",
       "      <td>short</td>\n",
       "      <td>young</td>\n",
       "      <td>1</td>\n",
       "      <td>6.968990</td>\n",
       "    </tr>\n",
       "    <tr>\n",
       "      <th>2</th>\n",
       "      <td>2</td>\n",
       "      <td>tall</td>\n",
       "      <td>old</td>\n",
       "      <td>1</td>\n",
       "      <td>12.918760</td>\n",
       "    </tr>\n",
       "    <tr>\n",
       "      <th>3</th>\n",
       "      <td>3</td>\n",
       "      <td>short</td>\n",
       "      <td>young</td>\n",
       "      <td>0</td>\n",
       "      <td>12.241072</td>\n",
       "    </tr>\n",
       "    <tr>\n",
       "      <th>4</th>\n",
       "      <td>4</td>\n",
       "      <td>tall</td>\n",
       "      <td>old</td>\n",
       "      <td>1</td>\n",
       "      <td>16.353029</td>\n",
       "    </tr>\n",
       "  </tbody>\n",
       "</table>\n",
       "</div>"
      ],
      "text/plain": [
       "   id height    age  treat          Y\n",
       "0   0  short  young      0   9.555415\n",
       "1   1  short  young      1   6.968990\n",
       "2   2   tall    old      1  12.918760\n",
       "3   3  short  young      0  12.241072\n",
       "4   4   tall    old      1  16.353029"
      ]
     },
     "execution_count": 16,
     "metadata": {},
     "output_type": "execute_result"
    }
   ],
   "source": [
    "obs = d[['id', 'height', 'age', 'treat', 'Y']]\n",
    "obs.head()"
   ]
  },
  {
   "cell_type": "markdown",
   "metadata": {},
   "source": [
    "Where did all the data go?? We no longer have access to people's causal effect ($\\tau$), nor do we have access to their potential outcomes to control and treatment. Instead, we're left only with their *realized potential outcomes* that match the condition they were assigned to. "
   ]
  },
  {
   "cell_type": "markdown",
   "metadata": {},
   "source": [
    "## Question of Understanding \n",
    "1. What happens to these values that are no longer in our dataset? Because we can't measure them, does that mean that they don't exist? Does it mean that they *never* existed? \n",
    "2. If we can't see any person's $\\tau$, then how should we generate an estimate of this population-level parameter? \n",
    "\n"
   ]
  },
  {
   "cell_type": "markdown",
   "metadata": {},
   "source": [
    "## Question for understanding\n",
    "1. Is the average height of people who are in treatment more or less than the average height for people who are in control? \n",
    "2. Is the average potential outcome to control, `y_0`, of people who are in treatment more or less than the average potential outcome to control for people who are in control? \n",
    "3. Is the average potential outcome to treatment, `y_1`, of people who are in treatment more or less than the average potential outcome to treatment for people who are in control?\n",
    "4. Is the average potential outcome to treatment, `y_1` of *people who are in treamtent* more or less than the average potential outcome to control, `y_0` of *people who are in treatment*.\n",
    "\n"
   ]
  },
  {
   "cell_type": "code",
   "execution_count": 29,
   "metadata": {},
   "outputs": [],
   "source": [
    "# question 1\n"
   ]
  },
  {
   "cell_type": "code",
   "execution_count": 30,
   "metadata": {},
   "outputs": [],
   "source": [
    "# question 2 \n"
   ]
  },
  {
   "cell_type": "code",
   "execution_count": 31,
   "metadata": {},
   "outputs": [],
   "source": [
    "# question 3 \n"
   ]
  },
  {
   "cell_type": "code",
   "execution_count": 32,
   "metadata": {},
   "outputs": [],
   "source": [
    "# question 4\n"
   ]
  },
  {
   "cell_type": "markdown",
   "metadata": {},
   "source": [
    "# Estimating Causal Quantities from the Observable Data \n",
    "\n",
    "Of course, we don't get to see each of these potential outcomes instead, we only get to see either one or the other. Which one do we get to see? Well the potential outcome for the treatment condition thatwe assign the person to!"
   ]
  },
  {
   "cell_type": "markdown",
   "metadata": {},
   "source": [
    "For someone in control, for example, we can see only their potential outcome to control. "
   ]
  },
  {
   "cell_type": "code",
   "execution_count": null,
   "metadata": {},
   "outputs": [],
   "source": []
  },
  {
   "cell_type": "markdown",
   "metadata": {},
   "source": [
    "Is this the same as off the *science table* it sure should be! "
   ]
  },
  {
   "cell_type": "code",
   "execution_count": null,
   "metadata": {},
   "outputs": [],
   "source": []
  },
  {
   "cell_type": "markdown",
   "metadata": {},
   "source": [
    "The exact same logic applies to the potential outcomes to treamtent as well: "
   ]
  },
  {
   "cell_type": "code",
   "execution_count": null,
   "metadata": {},
   "outputs": [],
   "source": []
  },
  {
   "cell_type": "markdown",
   "metadata": {},
   "source": [
    "# The Big Punchline! \n",
    "\n",
    "Because the *observable* set of realised potential outcomes are unbiased estimates of the *unobservable* potential outcomes, we're able to generate an unbiased estimate of the causal effect, using only observable data! \n",
    "\n",
    "In general the framework looks like this. \n",
    "\n",
    "Given random assignment to treatment and control: \n",
    "\n",
    "1. Use observable data from each of the randomly assigned group to produce an unbiased estimate of the mean value of the potential outcome for that group. \n",
    "2. Use these two unbiased estimators to produce an unbiased estimate of the difference between potential outcomes to treatment and the potential outcomes to control. \n",
    "3. This value, while less *precise* than a case where we could measure *tau* for each individual, is an unbiased and consistent estimate of an otherwise unobservable feature. \n"
   ]
  },
  {
   "cell_type": "code",
   "execution_count": null,
   "metadata": {},
   "outputs": [],
   "source": []
  }
 ],
 "metadata": {
  "kernelspec": {
   "display_name": "Python 3",
   "language": "python",
   "name": "python3"
  },
  "language_info": {
   "codemirror_mode": {
    "name": "ipython",
    "version": 3
   },
   "file_extension": ".py",
   "mimetype": "text/x-python",
   "name": "python",
   "nbconvert_exporter": "python",
   "pygments_lexer": "ipython3",
   "version": "3.7.3"
  }
 },
 "nbformat": 4,
 "nbformat_minor": 2
}
