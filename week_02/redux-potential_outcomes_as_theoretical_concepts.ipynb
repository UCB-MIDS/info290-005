{
 "cells": [
  {
   "cell_type": "markdown",
   "metadata": {},
   "source": [
    "# Week 2: Potential Outcomes\n",
    "\n",
    "The concept of potential outcomes are foundational to the reasoning system that we're going to use for the course. They allow us to think about, with considerably clarity, the comparisons that we want to make, and **exactly** why these comparisons are *causal*. \n",
    "\n",
    "But, despite the somewhat obtuse language that we might use when we're talking about potential outcomes (e.g. \"The potential outcome to treatment, when a unit is assigned to treatment.\") the math surrounding potential outcomes is actually pretty straightforward. \n",
    "\n",
    "# Create Data \n",
    "Let's make some toy data that we can use through this demo. \n",
    "\n",
    "Suppose that we have 1,000 individuals that we can observe in our study. Furthermore, suppose that for each of these people, there is some *latent*, or unmeasured, response to treatment that they *would* have to treatment if we assigned them to take the treatemnt. \n",
    "\n",
    "You might think of this as an unknowable population-level parameter that we're trying to estimate from empirical data. In this worksheet, we're going to make the data so that the causal parameter $\\tau$ has a mean value of 2. But, you could imagine that some other treatment has a mean value of 100. Or, for some third treatment it could have a mean value of zero, in which case we would say there there is *no* treatment effect. \n",
    "\n",
    "For concreteness, suppose that the treatment is assigning people to drink [coffee](https://www.aldeacoffee.com)."
   ]
  },
  {
   "cell_type": "code",
   "execution_count": 1,
   "metadata": {},
   "outputs": [],
   "source": [
    "import pandas as pd \n",
    "import numpy as np "
   ]
  },
  {
   "cell_type": "code",
   "execution_count": 2,
   "metadata": {},
   "outputs": [],
   "source": [
    "NROWS = 1000\n",
    "\n",
    "d = pd.DataFrame({\n",
    "    'id'  : np.arange(0,NROWS), \n",
    "    'tau' : np.random.normal(loc=2, scale=2, size=NROWS) } \n",
    ")"
   ]
  },
  {
   "cell_type": "markdown",
   "metadata": {},
   "source": [
    "Let's build more into our data, like, that some of the people are tall, while others are short; and some are young, while others are old. \n"
   ]
  },
  {
   "cell_type": "code",
   "execution_count": 7,
   "metadata": {},
   "outputs": [],
   "source": [
    "d['height'] = np.random.choice(a=['tall', 'short'], replace=True, size=NROWS)\n",
    "d['age']    = np.random.choice(a=['young', 'old'] , replace=True, size=NROWS)"
   ]
  },
  {
   "cell_type": "code",
   "execution_count": 23,
   "metadata": {},
   "outputs": [
    {
     "data": {
      "text/html": [
       "<div>\n",
       "<style scoped>\n",
       "    .dataframe tbody tr th:only-of-type {\n",
       "        vertical-align: middle;\n",
       "    }\n",
       "\n",
       "    .dataframe tbody tr th {\n",
       "        vertical-align: top;\n",
       "    }\n",
       "\n",
       "    .dataframe thead th {\n",
       "        text-align: right;\n",
       "    }\n",
       "</style>\n",
       "<table border=\"1\" class=\"dataframe\">\n",
       "  <thead>\n",
       "    <tr style=\"text-align: right;\">\n",
       "      <th></th>\n",
       "      <th>id</th>\n",
       "      <th>tau</th>\n",
       "      <th>height</th>\n",
       "      <th>age</th>\n",
       "    </tr>\n",
       "  </thead>\n",
       "  <tbody>\n",
       "    <tr>\n",
       "      <th>0</th>\n",
       "      <td>0</td>\n",
       "      <td>2.789977</td>\n",
       "      <td>short</td>\n",
       "      <td>young</td>\n",
       "    </tr>\n",
       "    <tr>\n",
       "      <th>1</th>\n",
       "      <td>1</td>\n",
       "      <td>3.404780</td>\n",
       "      <td>short</td>\n",
       "      <td>young</td>\n",
       "    </tr>\n",
       "    <tr>\n",
       "      <th>2</th>\n",
       "      <td>2</td>\n",
       "      <td>0.325702</td>\n",
       "      <td>short</td>\n",
       "      <td>young</td>\n",
       "    </tr>\n",
       "    <tr>\n",
       "      <th>3</th>\n",
       "      <td>3</td>\n",
       "      <td>2.452018</td>\n",
       "      <td>tall</td>\n",
       "      <td>old</td>\n",
       "    </tr>\n",
       "    <tr>\n",
       "      <th>4</th>\n",
       "      <td>4</td>\n",
       "      <td>-1.759545</td>\n",
       "      <td>tall</td>\n",
       "      <td>young</td>\n",
       "    </tr>\n",
       "  </tbody>\n",
       "</table>\n",
       "</div>"
      ],
      "text/plain": [
       "   id       tau height    age\n",
       "0   0  2.789977  short  young\n",
       "1   1  3.404780  short  young\n",
       "2   2  0.325702  short  young\n",
       "3   3  2.452018   tall    old\n",
       "4   4 -1.759545   tall  young"
      ]
     },
     "execution_count": 23,
     "metadata": {},
     "output_type": "execute_result"
    }
   ],
   "source": [
    "d.head()"
   ]
  },
  {
   "cell_type": "code",
   "execution_count": 8,
   "metadata": {},
   "outputs": [
    {
     "data": {
      "text/html": [
       "<div>\n",
       "<style scoped>\n",
       "    .dataframe tbody tr th:only-of-type {\n",
       "        vertical-align: middle;\n",
       "    }\n",
       "\n",
       "    .dataframe tbody tr th {\n",
       "        vertical-align: top;\n",
       "    }\n",
       "\n",
       "    .dataframe thead th {\n",
       "        text-align: right;\n",
       "    }\n",
       "</style>\n",
       "<table border=\"1\" class=\"dataframe\">\n",
       "  <thead>\n",
       "    <tr style=\"text-align: right;\">\n",
       "      <th></th>\n",
       "      <th>id</th>\n",
       "      <th>tau</th>\n",
       "      <th>height</th>\n",
       "      <th>age</th>\n",
       "    </tr>\n",
       "  </thead>\n",
       "  <tbody>\n",
       "    <tr>\n",
       "      <th>0</th>\n",
       "      <td>0</td>\n",
       "      <td>2.789977</td>\n",
       "      <td>short</td>\n",
       "      <td>young</td>\n",
       "    </tr>\n",
       "    <tr>\n",
       "      <th>1</th>\n",
       "      <td>1</td>\n",
       "      <td>3.404780</td>\n",
       "      <td>short</td>\n",
       "      <td>young</td>\n",
       "    </tr>\n",
       "    <tr>\n",
       "      <th>2</th>\n",
       "      <td>2</td>\n",
       "      <td>0.325702</td>\n",
       "      <td>short</td>\n",
       "      <td>young</td>\n",
       "    </tr>\n",
       "    <tr>\n",
       "      <th>3</th>\n",
       "      <td>3</td>\n",
       "      <td>2.452018</td>\n",
       "      <td>tall</td>\n",
       "      <td>old</td>\n",
       "    </tr>\n",
       "    <tr>\n",
       "      <th>4</th>\n",
       "      <td>4</td>\n",
       "      <td>-1.759545</td>\n",
       "      <td>tall</td>\n",
       "      <td>young</td>\n",
       "    </tr>\n",
       "  </tbody>\n",
       "</table>\n",
       "</div>"
      ],
      "text/plain": [
       "   id       tau height    age\n",
       "0   0  2.789977  short  young\n",
       "1   1  3.404780  short  young\n",
       "2   2  0.325702  short  young\n",
       "3   3  2.452018   tall    old\n",
       "4   4 -1.759545   tall  young"
      ]
     },
     "execution_count": 8,
     "metadata": {},
     "output_type": "execute_result"
    }
   ],
   "source": [
    "d.head()"
   ]
  },
  {
   "cell_type": "markdown",
   "metadata": {},
   "source": [
    "In just exactly the same way, we can also think of our units having levels of *potential outcomes to control*. That is, we can suppose that people have some level of the outcome in the case that they do not drink any coffee. For concreteness, suppose that the outcome is people's number of minutes of 241 coding they can accomplish, before they fall asleep. \n",
    "\n",
    "There might (or might not) be a relationship between our non-experimentally assigned outcomes. In the example we're working with here, suppose that there is no relationship between height and minutes of coding; but that there is a positive relationship between age and minutes of coding. \n",
    "\n",
    "This might be represented in our data in the following way: The mean number of minutes that someone can work is 10, plus, if they're old (ahem... seasoned, disciplined) they are able to work for an additional 5 minutes on avergae. But, also assume that there is some noise in this relationship. "
   ]
  },
  {
   "cell_type": "markdown",
   "metadata": {},
   "source": [
    "## Potential Outcomes to Control "
   ]
  },
  {
   "cell_type": "code",
   "execution_count": 26,
   "metadata": {},
   "outputs": [],
   "source": [
    "d['y0'] = 10 + (d['age'] == 'old') * 2 \\\n",
    "  + np.random.normal(size=NROWS, loc=0, scale=1)"
   ]
  },
  {
   "cell_type": "code",
   "execution_count": 28,
   "metadata": {},
   "outputs": [
    {
     "data": {
      "text/html": [
       "<div>\n",
       "<style scoped>\n",
       "    .dataframe tbody tr th:only-of-type {\n",
       "        vertical-align: middle;\n",
       "    }\n",
       "\n",
       "    .dataframe tbody tr th {\n",
       "        vertical-align: top;\n",
       "    }\n",
       "\n",
       "    .dataframe thead th {\n",
       "        text-align: right;\n",
       "    }\n",
       "</style>\n",
       "<table border=\"1\" class=\"dataframe\">\n",
       "  <thead>\n",
       "    <tr style=\"text-align: right;\">\n",
       "      <th></th>\n",
       "      <th>id</th>\n",
       "      <th>tau</th>\n",
       "      <th>height</th>\n",
       "      <th>age</th>\n",
       "      <th>y0</th>\n",
       "    </tr>\n",
       "  </thead>\n",
       "  <tbody>\n",
       "    <tr>\n",
       "      <th>0</th>\n",
       "      <td>0</td>\n",
       "      <td>2.789977</td>\n",
       "      <td>short</td>\n",
       "      <td>young</td>\n",
       "      <td>9.324339</td>\n",
       "    </tr>\n",
       "    <tr>\n",
       "      <th>1</th>\n",
       "      <td>1</td>\n",
       "      <td>3.404780</td>\n",
       "      <td>short</td>\n",
       "      <td>young</td>\n",
       "      <td>9.783787</td>\n",
       "    </tr>\n",
       "    <tr>\n",
       "      <th>2</th>\n",
       "      <td>2</td>\n",
       "      <td>0.325702</td>\n",
       "      <td>short</td>\n",
       "      <td>young</td>\n",
       "      <td>11.425327</td>\n",
       "    </tr>\n",
       "    <tr>\n",
       "      <th>3</th>\n",
       "      <td>3</td>\n",
       "      <td>2.452018</td>\n",
       "      <td>tall</td>\n",
       "      <td>old</td>\n",
       "      <td>13.536563</td>\n",
       "    </tr>\n",
       "    <tr>\n",
       "      <th>4</th>\n",
       "      <td>4</td>\n",
       "      <td>-1.759545</td>\n",
       "      <td>tall</td>\n",
       "      <td>young</td>\n",
       "      <td>8.098727</td>\n",
       "    </tr>\n",
       "  </tbody>\n",
       "</table>\n",
       "</div>"
      ],
      "text/plain": [
       "   id       tau height    age         y0\n",
       "0   0  2.789977  short  young   9.324339\n",
       "1   1  3.404780  short  young   9.783787\n",
       "2   2  0.325702  short  young  11.425327\n",
       "3   3  2.452018   tall    old  13.536563\n",
       "4   4 -1.759545   tall  young   8.098727"
      ]
     },
     "execution_count": 28,
     "metadata": {},
     "output_type": "execute_result"
    }
   ],
   "source": [
    "d.head()"
   ]
  },
  {
   "cell_type": "markdown",
   "metadata": {},
   "source": [
    "Notice that there is no relationship between height and potential outcomes to control; and also notice that the \"noise\" in the relationship is represented in the draw from the normal distribution with mean 0. \n",
    "\n",
    "## Potential Outcomes to Treatment \n",
    "If we know people's potential outcomes to control, and we already know each persons *causal effect*, then I suppose we also know their potential outcomes to **treatment**, right? "
   ]
  },
  {
   "cell_type": "code",
   "execution_count": 29,
   "metadata": {},
   "outputs": [],
   "source": [
    "d['y1'] = d['y0'] + d['tau']"
   ]
  },
  {
   "cell_type": "markdown",
   "metadata": {},
   "source": [
    "And so, we can represent this **science table** -- the set of all potentially realizable outcomes. "
   ]
  },
  {
   "cell_type": "code",
   "execution_count": 30,
   "metadata": {},
   "outputs": [
    {
     "data": {
      "text/html": [
       "<div>\n",
       "<style scoped>\n",
       "    .dataframe tbody tr th:only-of-type {\n",
       "        vertical-align: middle;\n",
       "    }\n",
       "\n",
       "    .dataframe tbody tr th {\n",
       "        vertical-align: top;\n",
       "    }\n",
       "\n",
       "    .dataframe thead th {\n",
       "        text-align: right;\n",
       "    }\n",
       "</style>\n",
       "<table border=\"1\" class=\"dataframe\">\n",
       "  <thead>\n",
       "    <tr style=\"text-align: right;\">\n",
       "      <th></th>\n",
       "      <th>id</th>\n",
       "      <th>tau</th>\n",
       "      <th>height</th>\n",
       "      <th>age</th>\n",
       "      <th>y0</th>\n",
       "      <th>y1</th>\n",
       "    </tr>\n",
       "  </thead>\n",
       "  <tbody>\n",
       "    <tr>\n",
       "      <th>0</th>\n",
       "      <td>0</td>\n",
       "      <td>2.789977</td>\n",
       "      <td>short</td>\n",
       "      <td>young</td>\n",
       "      <td>9.324339</td>\n",
       "      <td>12.114316</td>\n",
       "    </tr>\n",
       "    <tr>\n",
       "      <th>1</th>\n",
       "      <td>1</td>\n",
       "      <td>3.404780</td>\n",
       "      <td>short</td>\n",
       "      <td>young</td>\n",
       "      <td>9.783787</td>\n",
       "      <td>13.188567</td>\n",
       "    </tr>\n",
       "    <tr>\n",
       "      <th>2</th>\n",
       "      <td>2</td>\n",
       "      <td>0.325702</td>\n",
       "      <td>short</td>\n",
       "      <td>young</td>\n",
       "      <td>11.425327</td>\n",
       "      <td>11.751029</td>\n",
       "    </tr>\n",
       "    <tr>\n",
       "      <th>3</th>\n",
       "      <td>3</td>\n",
       "      <td>2.452018</td>\n",
       "      <td>tall</td>\n",
       "      <td>old</td>\n",
       "      <td>13.536563</td>\n",
       "      <td>15.988582</td>\n",
       "    </tr>\n",
       "    <tr>\n",
       "      <th>4</th>\n",
       "      <td>4</td>\n",
       "      <td>-1.759545</td>\n",
       "      <td>tall</td>\n",
       "      <td>young</td>\n",
       "      <td>8.098727</td>\n",
       "      <td>6.339182</td>\n",
       "    </tr>\n",
       "  </tbody>\n",
       "</table>\n",
       "</div>"
      ],
      "text/plain": [
       "   id       tau height    age         y0         y1\n",
       "0   0  2.789977  short  young   9.324339  12.114316\n",
       "1   1  3.404780  short  young   9.783787  13.188567\n",
       "2   2  0.325702  short  young  11.425327  11.751029\n",
       "3   3  2.452018   tall    old  13.536563  15.988582\n",
       "4   4 -1.759545   tall  young   8.098727   6.339182"
      ]
     },
     "execution_count": 30,
     "metadata": {},
     "output_type": "execute_result"
    }
   ],
   "source": [
    "d.head()"
   ]
  },
  {
   "cell_type": "markdown",
   "metadata": {},
   "source": [
    "## Questions for Understanding \n",
    "1. On average, will people who are older tend to be taller, shorter, or about the same height, and people who are younger? \n",
    "2. On average, will people who are older tend to have higher or lower potential outcomes to control? \n",
    "3. On average, will people who are older tend to have higher or lower potential outcomes to treatment? \n",
    "4. **Most importantly**: If these are *potential outcomes* then, can we empirically observe any of these outcomes? \n"
   ]
  },
  {
   "cell_type": "code",
   "execution_count": 37,
   "metadata": {},
   "outputs": [
    {
     "data": {
      "text/plain": [
       "3     True\n",
       "5    False\n",
       "6     True\n",
       "8     True\n",
       "9    False\n",
       "Name: height, dtype: bool"
      ]
     },
     "execution_count": 37,
     "metadata": {},
     "output_type": "execute_result"
    }
   ],
   "source": [
    "(d.loc[d['age'] == 'old',   'height'] == 'tall')"
   ]
  },
  {
   "cell_type": "code",
   "execution_count": 36,
   "metadata": {},
   "outputs": [
    {
     "data": {
      "text/plain": [
       "0.012000000000000011"
      ]
     },
     "execution_count": 36,
     "metadata": {},
     "output_type": "execute_result"
    }
   ],
   "source": [
    "np.mean(d.loc[d['age'] == 'old',   'height'] == 'tall') \\ \n",
    "  - np.mean(d.loc[d['age'] == 'young', 'height'] == 'tall')"
   ]
  },
  {
   "cell_type": "code",
   "execution_count": 43,
   "metadata": {},
   "outputs": [
    {
     "data": {
      "text/html": [
       "<div>\n",
       "<style scoped>\n",
       "    .dataframe tbody tr th:only-of-type {\n",
       "        vertical-align: middle;\n",
       "    }\n",
       "\n",
       "    .dataframe tbody tr th {\n",
       "        vertical-align: top;\n",
       "    }\n",
       "\n",
       "    .dataframe thead th {\n",
       "        text-align: right;\n",
       "    }\n",
       "</style>\n",
       "<table border=\"1\" class=\"dataframe\">\n",
       "  <thead>\n",
       "    <tr style=\"text-align: right;\">\n",
       "      <th></th>\n",
       "      <th>height</th>\n",
       "    </tr>\n",
       "    <tr>\n",
       "      <th>age</th>\n",
       "      <th></th>\n",
       "    </tr>\n",
       "  </thead>\n",
       "  <tbody>\n",
       "    <tr>\n",
       "      <th>old</th>\n",
       "      <td>500</td>\n",
       "    </tr>\n",
       "    <tr>\n",
       "      <th>young</th>\n",
       "      <td>500</td>\n",
       "    </tr>\n",
       "  </tbody>\n",
       "</table>\n",
       "</div>"
      ],
      "text/plain": [
       "       height\n",
       "age          \n",
       "old       500\n",
       "young     500"
      ]
     },
     "execution_count": 43,
     "metadata": {},
     "output_type": "execute_result"
    }
   ],
   "source": [
    "d[['age', 'height']].groupby('age').count()"
   ]
  },
  {
   "cell_type": "code",
   "execution_count": 50,
   "metadata": {},
   "outputs": [
    {
     "data": {
      "text/html": [
       "<div>\n",
       "<style scoped>\n",
       "    .dataframe tbody tr th:only-of-type {\n",
       "        vertical-align: middle;\n",
       "    }\n",
       "\n",
       "    .dataframe tbody tr th {\n",
       "        vertical-align: top;\n",
       "    }\n",
       "\n",
       "    .dataframe thead th {\n",
       "        text-align: right;\n",
       "    }\n",
       "</style>\n",
       "<table border=\"1\" class=\"dataframe\">\n",
       "  <thead>\n",
       "    <tr style=\"text-align: right;\">\n",
       "      <th></th>\n",
       "      <th>y0</th>\n",
       "    </tr>\n",
       "    <tr>\n",
       "      <th>age</th>\n",
       "      <th></th>\n",
       "    </tr>\n",
       "  </thead>\n",
       "  <tbody>\n",
       "    <tr>\n",
       "      <th>old</th>\n",
       "      <td>12.002600</td>\n",
       "    </tr>\n",
       "    <tr>\n",
       "      <th>young</th>\n",
       "      <td>10.043181</td>\n",
       "    </tr>\n",
       "  </tbody>\n",
       "</table>\n",
       "</div>"
      ],
      "text/plain": [
       "              y0\n",
       "age             \n",
       "old    12.002600\n",
       "young  10.043181"
      ]
     },
     "execution_count": 50,
     "metadata": {},
     "output_type": "execute_result"
    }
   ],
   "source": [
    "d[['age', 'y0']].groupby('age').mean()"
   ]
  },
  {
   "cell_type": "markdown",
   "metadata": {},
   "source": [
    "# Run Your Experiment \n",
    "\n",
    "To this point, we've been working in the *potential outcomes space*. One way that you might think about this is as though these are the measurement that our population of people are going to walk into the expeiment having -- but we haven't measured them yet, so we don't know what they are! That is, suppose we have the whole cohort of students who are enrolled in 241, and they're going to start the coffee drinking experiment in Week 3. In Week 2, they all are either young/old, short/tall, and have innate abilities to focus, *we as the experimenters just don't know them yet!*. \n",
    "\n",
    "When we run the experiment, we accomplish several things: \n",
    "\n",
    "1. We measure outcomes from our subjects;\n",
    "2. We intervene in their lives to force a particular experience; \n",
    "3. As a result of our intervention, we *reveal* either potential outcomes to treatment or control for each subject, and we measure this. \n",
    "\n",
    "The first of these is easy: For every subject, no matter whether they are in treatment or control, we measure the trait that we care about. But, the second two require consierably more care, and are the focus of the class. \n",
    "\n",
    "In this experiment, the way that we are interviening in people's lives is to either give them *coffee* or *decaf coffee*. \n"
   ]
  },
  {
   "cell_type": "code",
   "execution_count": 81,
   "metadata": {},
   "outputs": [],
   "source": [
    "d['treat'] = np.random.choice(a=[0,1], replace=True, size=NROWS)"
   ]
  },
  {
   "cell_type": "markdown",
   "metadata": {},
   "source": [
    "Then, and only then, we're also able to make some of their potential outcomes measurable. "
   ]
  },
  {
   "cell_type": "code",
   "execution_count": 82,
   "metadata": {},
   "outputs": [],
   "source": [
    "d['Y'] = d['y0'] * (d['treat'] == 0) \\\n",
    "  + d['y1'] * (d['treat'] == 1)"
   ]
  },
  {
   "cell_type": "markdown",
   "metadata": {},
   "source": [
    "What do we have then? "
   ]
  },
  {
   "cell_type": "code",
   "execution_count": 53,
   "metadata": {},
   "outputs": [
    {
     "data": {
      "text/html": [
       "<div>\n",
       "<style scoped>\n",
       "    .dataframe tbody tr th:only-of-type {\n",
       "        vertical-align: middle;\n",
       "    }\n",
       "\n",
       "    .dataframe tbody tr th {\n",
       "        vertical-align: top;\n",
       "    }\n",
       "\n",
       "    .dataframe thead th {\n",
       "        text-align: right;\n",
       "    }\n",
       "</style>\n",
       "<table border=\"1\" class=\"dataframe\">\n",
       "  <thead>\n",
       "    <tr style=\"text-align: right;\">\n",
       "      <th></th>\n",
       "      <th>id</th>\n",
       "      <th>tau</th>\n",
       "      <th>height</th>\n",
       "      <th>age</th>\n",
       "      <th>y0</th>\n",
       "      <th>y1</th>\n",
       "      <th>treat</th>\n",
       "      <th>Y</th>\n",
       "    </tr>\n",
       "  </thead>\n",
       "  <tbody>\n",
       "    <tr>\n",
       "      <th>0</th>\n",
       "      <td>0</td>\n",
       "      <td>2.789977</td>\n",
       "      <td>short</td>\n",
       "      <td>young</td>\n",
       "      <td>9.324339</td>\n",
       "      <td>12.114316</td>\n",
       "      <td>0</td>\n",
       "      <td>9.324339</td>\n",
       "    </tr>\n",
       "    <tr>\n",
       "      <th>1</th>\n",
       "      <td>1</td>\n",
       "      <td>3.404780</td>\n",
       "      <td>short</td>\n",
       "      <td>young</td>\n",
       "      <td>9.783787</td>\n",
       "      <td>13.188567</td>\n",
       "      <td>0</td>\n",
       "      <td>9.783787</td>\n",
       "    </tr>\n",
       "    <tr>\n",
       "      <th>2</th>\n",
       "      <td>2</td>\n",
       "      <td>0.325702</td>\n",
       "      <td>short</td>\n",
       "      <td>young</td>\n",
       "      <td>11.425327</td>\n",
       "      <td>11.751029</td>\n",
       "      <td>0</td>\n",
       "      <td>11.425327</td>\n",
       "    </tr>\n",
       "    <tr>\n",
       "      <th>3</th>\n",
       "      <td>3</td>\n",
       "      <td>2.452018</td>\n",
       "      <td>tall</td>\n",
       "      <td>old</td>\n",
       "      <td>13.536563</td>\n",
       "      <td>15.988582</td>\n",
       "      <td>0</td>\n",
       "      <td>13.536563</td>\n",
       "    </tr>\n",
       "    <tr>\n",
       "      <th>4</th>\n",
       "      <td>4</td>\n",
       "      <td>-1.759545</td>\n",
       "      <td>tall</td>\n",
       "      <td>young</td>\n",
       "      <td>8.098727</td>\n",
       "      <td>6.339182</td>\n",
       "      <td>1</td>\n",
       "      <td>6.339182</td>\n",
       "    </tr>\n",
       "  </tbody>\n",
       "</table>\n",
       "</div>"
      ],
      "text/plain": [
       "   id       tau height    age         y0         y1  treat          Y\n",
       "0   0  2.789977  short  young   9.324339  12.114316      0   9.324339\n",
       "1   1  3.404780  short  young   9.783787  13.188567      0   9.783787\n",
       "2   2  0.325702  short  young  11.425327  11.751029      0  11.425327\n",
       "3   3  2.452018   tall    old  13.536563  15.988582      0  13.536563\n",
       "4   4 -1.759545   tall  young   8.098727   6.339182      1   6.339182"
      ]
     },
     "execution_count": 53,
     "metadata": {},
     "output_type": "execute_result"
    }
   ],
   "source": [
    "d.head()"
   ]
  },
  {
   "cell_type": "code",
   "execution_count": 58,
   "metadata": {},
   "outputs": [
    {
     "data": {
      "text/plain": [
       "0.997"
      ]
     },
     "execution_count": 58,
     "metadata": {},
     "output_type": "execute_result"
    }
   ],
   "source": []
  },
  {
   "cell_type": "markdown",
   "metadata": {},
   "source": [
    "## Why only some of? \n",
    "\n",
    "Why are we only able to measure some of people's potential outcomes? As David has identified in the async videos, we're only able to measure the potential outcomes that are consistent with the treatment that we actually give people. \n",
    "\n",
    "And, so, while the *science table* might contain information about each persons potential outcomes to treamtent and control, the table of data that we're ever going to be able to generate has a more restricted set. Call this observable data set `obs`, and it is a subset of all the data that might be out there."
   ]
  },
  {
   "cell_type": "code",
   "execution_count": 83,
   "metadata": {},
   "outputs": [
    {
     "data": {
      "text/html": [
       "<div>\n",
       "<style scoped>\n",
       "    .dataframe tbody tr th:only-of-type {\n",
       "        vertical-align: middle;\n",
       "    }\n",
       "\n",
       "    .dataframe tbody tr th {\n",
       "        vertical-align: top;\n",
       "    }\n",
       "\n",
       "    .dataframe thead th {\n",
       "        text-align: right;\n",
       "    }\n",
       "</style>\n",
       "<table border=\"1\" class=\"dataframe\">\n",
       "  <thead>\n",
       "    <tr style=\"text-align: right;\">\n",
       "      <th></th>\n",
       "      <th>id</th>\n",
       "      <th>height</th>\n",
       "      <th>age</th>\n",
       "      <th>treat</th>\n",
       "      <th>Y</th>\n",
       "    </tr>\n",
       "  </thead>\n",
       "  <tbody>\n",
       "    <tr>\n",
       "      <th>0</th>\n",
       "      <td>0</td>\n",
       "      <td>short</td>\n",
       "      <td>young</td>\n",
       "      <td>0</td>\n",
       "      <td>9.324339</td>\n",
       "    </tr>\n",
       "    <tr>\n",
       "      <th>1</th>\n",
       "      <td>1</td>\n",
       "      <td>short</td>\n",
       "      <td>young</td>\n",
       "      <td>1</td>\n",
       "      <td>13.188567</td>\n",
       "    </tr>\n",
       "    <tr>\n",
       "      <th>2</th>\n",
       "      <td>2</td>\n",
       "      <td>short</td>\n",
       "      <td>young</td>\n",
       "      <td>1</td>\n",
       "      <td>11.751029</td>\n",
       "    </tr>\n",
       "    <tr>\n",
       "      <th>3</th>\n",
       "      <td>3</td>\n",
       "      <td>tall</td>\n",
       "      <td>old</td>\n",
       "      <td>0</td>\n",
       "      <td>13.536563</td>\n",
       "    </tr>\n",
       "    <tr>\n",
       "      <th>4</th>\n",
       "      <td>4</td>\n",
       "      <td>tall</td>\n",
       "      <td>young</td>\n",
       "      <td>0</td>\n",
       "      <td>8.098727</td>\n",
       "    </tr>\n",
       "  </tbody>\n",
       "</table>\n",
       "</div>"
      ],
      "text/plain": [
       "   id height    age  treat          Y\n",
       "0   0  short  young      0   9.324339\n",
       "1   1  short  young      1  13.188567\n",
       "2   2  short  young      1  11.751029\n",
       "3   3   tall    old      0  13.536563\n",
       "4   4   tall  young      0   8.098727"
      ]
     },
     "execution_count": 83,
     "metadata": {},
     "output_type": "execute_result"
    }
   ],
   "source": [
    "obs = d[['id', 'height', 'age', 'treat', 'Y']]\n",
    "obs.head()"
   ]
  },
  {
   "cell_type": "markdown",
   "metadata": {},
   "source": [
    "Where did all the data go?? We no longer have access to people's causal effect ($\\tau$), nor do we have access to their potential outcomes to control and treatment. Instead, we're left only with their *realized potential outcomes* that match the condition they were assigned to. "
   ]
  },
  {
   "cell_type": "markdown",
   "metadata": {},
   "source": [
    "## Question of Understanding \n",
    "1. What happens to these values that are no longer in our dataset? Because we can't measure them, does that mean that they don't exist? Does it mean that they *never* existed? \n",
    "2. If we can't see any person's $\\tau$, then how should we generate an estimate of this population-level parameter? \n",
    "\n"
   ]
  },
  {
   "cell_type": "markdown",
   "metadata": {},
   "source": [
    "# Estimating Causal Quantities from All of the Data \n",
    "\n",
    "Suppose for a moment that we *could* observe parts of the science table. In particular, suppose that we had access to everybody's potential outcomes to treatment and control, but not their treatment effect. Could we make an estimate about the average treatment effect then? Sure! \n"
   ]
  },
  {
   "cell_type": "code",
   "execution_count": 84,
   "metadata": {},
   "outputs": [
    {
     "data": {
      "text/plain": [
       "0    2.789977\n",
       "1    3.404780\n",
       "2    0.325702\n",
       "3    2.452018\n",
       "4   -1.759545\n",
       "dtype: float64"
      ]
     },
     "execution_count": 84,
     "metadata": {},
     "output_type": "execute_result"
    }
   ],
   "source": [
    "calculated_effects = d['y1'] - d['y0']\n",
    "calculated_effects.head()"
   ]
  },
  {
   "cell_type": "markdown",
   "metadata": {},
   "source": [
    "And so, what is the average of these?"
   ]
  },
  {
   "cell_type": "code",
   "execution_count": 64,
   "metadata": {},
   "outputs": [
    {
     "data": {
      "text/plain": [
       "2.0864820681426584"
      ]
     },
     "execution_count": 64,
     "metadata": {},
     "output_type": "execute_result"
    }
   ],
   "source": [
    "calculated_effects.mean()"
   ]
  },
  {
   "cell_type": "markdown",
   "metadata": {},
   "source": [
    "That's kind of trivial, since we just built the `calculated_tau` back from the difference between the `y_1` and `y_0` measurements; but, it works. "
   ]
  },
  {
   "cell_type": "markdown",
   "metadata": {},
   "source": [
    "## Question for understanding\n",
    "1. Is the average height of people who are in treatment more or less than the average height for people who are in control? \n",
    "2. Is the average potential outcome to control, `y_0`, of people who are in treatment more or less than the average potential outcome to control for people who are in control? \n",
    "3. Is the average potential outcome to treatment, `y_1`, of people who are in treatment more or less than the average potential outcome to treatment for people who are in control?\n",
    "4. Is the average potential outcome to treatment, `y_1` of *people who are in treamtent* more or less than the average potential outcome to control, `y_0` of *people who are in treatment*.\n",
    "\n"
   ]
  },
  {
   "cell_type": "code",
   "execution_count": 65,
   "metadata": {},
   "outputs": [
    {
     "data": {
      "text/html": [
       "<div>\n",
       "<style scoped>\n",
       "    .dataframe tbody tr th:only-of-type {\n",
       "        vertical-align: middle;\n",
       "    }\n",
       "\n",
       "    .dataframe tbody tr th {\n",
       "        vertical-align: top;\n",
       "    }\n",
       "\n",
       "    .dataframe thead th {\n",
       "        text-align: right;\n",
       "    }\n",
       "</style>\n",
       "<table border=\"1\" class=\"dataframe\">\n",
       "  <thead>\n",
       "    <tr style=\"text-align: right;\">\n",
       "      <th></th>\n",
       "      <th>height</th>\n",
       "      <th>treat</th>\n",
       "      <th>id</th>\n",
       "    </tr>\n",
       "  </thead>\n",
       "  <tbody>\n",
       "    <tr>\n",
       "      <th>0</th>\n",
       "      <td>short</td>\n",
       "      <td>0</td>\n",
       "      <td>239</td>\n",
       "    </tr>\n",
       "    <tr>\n",
       "      <th>1</th>\n",
       "      <td>short</td>\n",
       "      <td>1</td>\n",
       "      <td>261</td>\n",
       "    </tr>\n",
       "    <tr>\n",
       "      <th>2</th>\n",
       "      <td>tall</td>\n",
       "      <td>0</td>\n",
       "      <td>243</td>\n",
       "    </tr>\n",
       "    <tr>\n",
       "      <th>3</th>\n",
       "      <td>tall</td>\n",
       "      <td>1</td>\n",
       "      <td>257</td>\n",
       "    </tr>\n",
       "  </tbody>\n",
       "</table>\n",
       "</div>"
      ],
      "text/plain": [
       "  height  treat   id\n",
       "0  short      0  239\n",
       "1  short      1  261\n",
       "2   tall      0  243\n",
       "3   tall      1  257"
      ]
     },
     "execution_count": 65,
     "metadata": {},
     "output_type": "execute_result"
    }
   ],
   "source": [
    "d[['height', 'treat', 'id']].groupby(['height', 'treat']).count().reset_index()"
   ]
  },
  {
   "cell_type": "code",
   "execution_count": 66,
   "metadata": {},
   "outputs": [
    {
     "data": {
      "text/html": [
       "<div>\n",
       "<style scoped>\n",
       "    .dataframe tbody tr th:only-of-type {\n",
       "        vertical-align: middle;\n",
       "    }\n",
       "\n",
       "    .dataframe tbody tr th {\n",
       "        vertical-align: top;\n",
       "    }\n",
       "\n",
       "    .dataframe thead th {\n",
       "        text-align: right;\n",
       "    }\n",
       "</style>\n",
       "<table border=\"1\" class=\"dataframe\">\n",
       "  <thead>\n",
       "    <tr style=\"text-align: right;\">\n",
       "      <th></th>\n",
       "      <th>id</th>\n",
       "      <th>tau</th>\n",
       "      <th>y0</th>\n",
       "      <th>y1</th>\n",
       "      <th>Y</th>\n",
       "    </tr>\n",
       "    <tr>\n",
       "      <th>treat</th>\n",
       "      <th></th>\n",
       "      <th></th>\n",
       "      <th></th>\n",
       "      <th></th>\n",
       "      <th></th>\n",
       "    </tr>\n",
       "  </thead>\n",
       "  <tbody>\n",
       "    <tr>\n",
       "      <th>0</th>\n",
       "      <td>495.543568</td>\n",
       "      <td>2.121510</td>\n",
       "      <td>10.967492</td>\n",
       "      <td>13.089002</td>\n",
       "      <td>10.967492</td>\n",
       "    </tr>\n",
       "    <tr>\n",
       "      <th>1</th>\n",
       "      <td>503.181467</td>\n",
       "      <td>2.053889</td>\n",
       "      <td>11.074439</td>\n",
       "      <td>13.128328</td>\n",
       "      <td>13.128328</td>\n",
       "    </tr>\n",
       "  </tbody>\n",
       "</table>\n",
       "</div>"
      ],
      "text/plain": [
       "               id       tau         y0         y1          Y\n",
       "treat                                                       \n",
       "0      495.543568  2.121510  10.967492  13.089002  10.967492\n",
       "1      503.181467  2.053889  11.074439  13.128328  13.128328"
      ]
     },
     "execution_count": 66,
     "metadata": {},
     "output_type": "execute_result"
    }
   ],
   "source": [
    "d.groupby('treat').mean()"
   ]
  },
  {
   "cell_type": "code",
   "execution_count": null,
   "metadata": {},
   "outputs": [],
   "source": [
    "d[d['treat'] == 1].mean()"
   ]
  },
  {
   "cell_type": "markdown",
   "metadata": {},
   "source": [
    "# Estimating Causal Quantities from the Observable Data \n",
    "\n",
    "Of course, we don't get to see each of these potential outcomes instead, we only get to see either one or the other. Which one do we get to see? Well the potential outcome for the treatment condition thatwe assign the person to!"
   ]
  },
  {
   "cell_type": "markdown",
   "metadata": {},
   "source": [
    "For someone in control, for example, we can see only their potential outcome to control. "
   ]
  },
  {
   "cell_type": "code",
   "execution_count": 68,
   "metadata": {},
   "outputs": [
    {
     "data": {
      "text/plain": [
       "13.128327815138526"
      ]
     },
     "execution_count": 68,
     "metadata": {},
     "output_type": "execute_result"
    }
   ],
   "source": [
    "obs.loc[obs['treat']==1, 'Y'].mean()"
   ]
  },
  {
   "cell_type": "markdown",
   "metadata": {},
   "source": [
    "Is this the same as off the *science table* it sure should be! "
   ]
  },
  {
   "cell_type": "code",
   "execution_count": 69,
   "metadata": {},
   "outputs": [
    {
     "data": {
      "text/plain": [
       "True"
      ]
     },
     "execution_count": 69,
     "metadata": {},
     "output_type": "execute_result"
    }
   ],
   "source": [
    "obs.loc[obs['treat']==0, 'Y'].mean() == d.loc[d['treat'] == 0, 'y0'].mean()"
   ]
  },
  {
   "cell_type": "markdown",
   "metadata": {},
   "source": [
    "The exact same logic applies to the potential outcomes to treamtent as well: "
   ]
  },
  {
   "cell_type": "code",
   "execution_count": 75,
   "metadata": {},
   "outputs": [
    {
     "data": {
      "text/plain": [
       "False"
      ]
     },
     "execution_count": 75,
     "metadata": {},
     "output_type": "execute_result"
    }
   ],
   "source": [
    "obs.loc[obs.treat==1, 'Y'].mean() == d.loc[d.treat==1, 'y1']"
   ]
  },
  {
   "cell_type": "markdown",
   "metadata": {},
   "source": [
    "# The Big Punchline! \n",
    "\n",
    "Because the *observable* set of realised potential outcomes are unbiased estimates of the *unobservable* potential outcomes, we're able to generate an unbiased estimate of the causal effect, using only causal data! \n",
    "\n",
    "In general the framework looks like this: \n",
    "\n",
    "1. Use observable data to estiamte unobservable potential outcomes. \n",
    "2. Use unobservable potential outcomes to estiamte causal effects. \n"
   ]
  },
  {
   "cell_type": "code",
   "execution_count": 85,
   "metadata": {},
   "outputs": [
    {
     "data": {
      "text/plain": [
       "treat\n",
       "0    11.048545\n",
       "1    13.094732\n",
       "Name: Y, dtype: float64"
      ]
     },
     "execution_count": 85,
     "metadata": {},
     "output_type": "execute_result"
    }
   ],
   "source": [
    "obs.groupby('treat').Y.mean()"
   ]
  },
  {
   "cell_type": "code",
   "execution_count": 86,
   "metadata": {},
   "outputs": [
    {
     "data": {
      "text/plain": [
       "treat\n",
       "0         NaN\n",
       "1    2.046187\n",
       "Name: Y, dtype: float64"
      ]
     },
     "execution_count": 86,
     "metadata": {},
     "output_type": "execute_result"
    }
   ],
   "source": [
    "obs.groupby('treat').Y.mean().diff()"
   ]
  },
  {
   "cell_type": "code",
   "execution_count": 87,
   "metadata": {},
   "outputs": [
    {
     "data": {
      "text/plain": [
       "2.0864820681426584"
      ]
     },
     "execution_count": 87,
     "metadata": {},
     "output_type": "execute_result"
    }
   ],
   "source": [
    "d.tau.mean()"
   ]
  },
  {
   "cell_type": "code",
   "execution_count": null,
   "metadata": {},
   "outputs": [],
   "source": []
  }
 ],
 "metadata": {
  "kernelspec": {
   "display_name": "Python 3",
   "language": "python",
   "name": "python3"
  },
  "language_info": {
   "codemirror_mode": {
    "name": "ipython",
    "version": 3
   },
   "file_extension": ".py",
   "mimetype": "text/x-python",
   "name": "python",
   "nbconvert_exporter": "python",
   "pygments_lexer": "ipython3",
   "version": "3.6.4"
  }
 },
 "nbformat": 4,
 "nbformat_minor": 2
}
