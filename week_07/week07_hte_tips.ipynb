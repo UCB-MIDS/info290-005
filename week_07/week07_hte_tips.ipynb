{
 "cells": [
  {
   "cell_type": "markdown",
   "metadata": {},
   "source": [
    "# Making those tips"
   ]
  },
  {
   "cell_type": "markdown",
   "metadata": {},
   "source": [
    "Does anybody presently work in a restaurant? Has anybody? If so, what sorts of crazy strategies did you use to try to increase the amount of tips that you earned? \n",
    "\n",
    "One strategy, used in diners and breakfast nooks across America is to put a *note* on the receipt that comes back to the patron. Or, if you're in a hustle and you can't write, \"Thanks!\" then to just put a happy face. \n",
    "\n",
    "Does placing a happy face increase tips the servers earn? Does it work the same for all servers?  "
   ]
  },
  {
   "cell_type": "code",
   "execution_count": 1,
   "metadata": {},
   "outputs": [],
   "source": [
    "import pandas as pd \n",
    "import statsmodels\n",
    "import statsmodels.formula.api as smf\n",
    "\n",
    "from stargazer.stargazer import Stargazer as sg "
   ]
  },
  {
   "cell_type": "code",
   "execution_count": 2,
   "metadata": {},
   "outputs": [
    {
     "data": {
      "text/html": [
       "<div>\n",
       "<style scoped>\n",
       "    .dataframe tbody tr th:only-of-type {\n",
       "        vertical-align: middle;\n",
       "    }\n",
       "\n",
       "    .dataframe tbody tr th {\n",
       "        vertical-align: top;\n",
       "    }\n",
       "\n",
       "    .dataframe thead th {\n",
       "        text-align: right;\n",
       "    }\n",
       "</style>\n",
       "<table border=\"1\" class=\"dataframe\">\n",
       "  <thead>\n",
       "    <tr style=\"text-align: right;\">\n",
       "      <th></th>\n",
       "      <th>female</th>\n",
       "      <th>happyface</th>\n",
       "      <th>tip</th>\n",
       "    </tr>\n",
       "  </thead>\n",
       "  <tbody>\n",
       "    <tr>\n",
       "      <td>0</td>\n",
       "      <td>Female</td>\n",
       "      <td>None</td>\n",
       "      <td>44.78</td>\n",
       "    </tr>\n",
       "    <tr>\n",
       "      <td>1</td>\n",
       "      <td>Female</td>\n",
       "      <td>None</td>\n",
       "      <td>27.55</td>\n",
       "    </tr>\n",
       "    <tr>\n",
       "      <td>2</td>\n",
       "      <td>Female</td>\n",
       "      <td>None</td>\n",
       "      <td>18.12</td>\n",
       "    </tr>\n",
       "    <tr>\n",
       "      <td>3</td>\n",
       "      <td>Male</td>\n",
       "      <td>None</td>\n",
       "      <td>0.00</td>\n",
       "    </tr>\n",
       "    <tr>\n",
       "      <td>4</td>\n",
       "      <td>Female</td>\n",
       "      <td>None</td>\n",
       "      <td>30.08</td>\n",
       "    </tr>\n",
       "  </tbody>\n",
       "</table>\n",
       "</div>"
      ],
      "text/plain": [
       "   female happyface    tip\n",
       "0  Female      None  44.78\n",
       "1  Female      None  27.55\n",
       "2  Female      None  18.12\n",
       "3    Male      None   0.00\n",
       "4  Female      None  30.08"
      ]
     },
     "execution_count": 2,
     "metadata": {},
     "output_type": "execute_result"
    }
   ],
   "source": [
    "d = pd.read_stata(\"http://hdl.handle.net/10079/vmcvdzs\")\n",
    "d.drop(['xhappy', 'tipround'], axis=1, inplace=True)\n",
    "d.head()"
   ]
  },
  {
   "cell_type": "markdown",
   "metadata": {},
   "source": [
    "Answer the following questions, using the data provided. For this set of prompts, use only `pandas.groupby`, `numpy.random.` and `numpy.mean` to produce an estimate of the treatment effect for each sub-part, and also a p-value for that treatment effect. \n",
    "\n",
    "1. Is there an effect *on average* of placing a happy face on a receipt? \n",
    "2. What is treatment effect *on average* among women? What about among men? \n",
    "3. (Challenge for at home): What is the difference between men and women. What is the p-value associated with this difference? "
   ]
  },
  {
   "cell_type": "code",
   "execution_count": null,
   "metadata": {},
   "outputs": [],
   "source": []
  },
  {
   "cell_type": "markdown",
   "metadata": {},
   "source": [
    "Now, answer the following questions, using the data provided, but you can use `statsmodels`. Since you're using `statsmodels`, ensure that you're using \"robust\" standard errors, because why not? \n",
    "\n",
    "1. Is there an effect *on average* of placing a happy face on a receipt? \n",
    "2. What is treatment effect *on average* among women? What about among men? Report this to another team and tell them how you interpret the results from these **two sets of regressions**. Do you have a p-value that you can report for this statement? \n",
    "3. What is the difference between men and women? What is the p-value associated with this difference? "
   ]
  },
  {
   "cell_type": "code",
   "execution_count": null,
   "metadata": {},
   "outputs": [],
   "source": []
  }
 ],
 "metadata": {
  "kernelspec": {
   "display_name": "Python 3",
   "language": "python",
   "name": "python3"
  },
  "language_info": {
   "codemirror_mode": {
    "name": "ipython",
    "version": 3
   },
   "file_extension": ".py",
   "mimetype": "text/x-python",
   "name": "python",
   "nbconvert_exporter": "python",
   "pygments_lexer": "ipython3",
   "version": "3.7.3"
  }
 },
 "nbformat": 4,
 "nbformat_minor": 2
}
