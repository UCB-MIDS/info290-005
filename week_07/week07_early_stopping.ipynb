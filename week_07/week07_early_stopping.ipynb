{
 "cells": [
  {
   "cell_type": "markdown",
   "metadata": {},
   "source": [
    "# What happens if we stop early? \n",
    "Write a small simulation to learn about what happens if we write a test that stops **as soon** as there is as \"stat sig\" treatment effect. \n",
    "\n",
    "Here's the catch, make it so that there is *exactly* zero treatment effect. "
   ]
  },
  {
   "cell_type": "code",
   "execution_count": 1,
   "metadata": {},
   "outputs": [],
   "source": [
    "import pandas as pd \n",
    "import numpy as np \n",
    "import matplotlib.pyplot as plt \n",
    "import scipy.stats "
   ]
  },
  {
   "cell_type": "markdown",
   "metadata": {},
   "source": [
    "First, lets write something the right way, so that there is actually no treatment effect. In this case, let's see if we can learn how frequently we have a false rejection of the null hypothesis. "
   ]
  },
  {
   "cell_type": "code",
   "execution_count": 2,
   "metadata": {},
   "outputs": [],
   "source": [
    "def whole_experiment(NROWS, NSIMS): \n",
    "    \"\"\" \n",
    "    What happens if we run this the right way? \n",
    "    --- \n",
    "    In this simulation, both y1 and y0 are drawn from the same distribution. \n",
    "    And so, there is *no treatment effect at all*. \n",
    "    \"\"\"\n",
    "    \n",
    "    p_val = np.ones(NSIMS)\n",
    "    \n",
    "    for sim in range(NSIMS): \n",
    "        y1 = np.random.randn(NROWS)\n",
    "        y0 = np.random.randn(NROWS)\n",
    "\n",
    "        p_val[sim] = scipy.stats.ttest_ind(y1, y0)[1]\n",
    "\n",
    "    return p_val"
   ]
  },
  {
   "cell_type": "code",
   "execution_count": 3,
   "metadata": {},
   "outputs": [
    {
     "data": {
      "text/plain": [
       "0.051"
      ]
     },
     "execution_count": 3,
     "metadata": {},
     "output_type": "execute_result"
    }
   ],
   "source": [
    "res = whole_experiment(NROWS=1000, NSIMS=1000)\n",
    "(res < 0.05).mean()"
   ]
  },
  {
   "cell_type": "markdown",
   "metadata": {},
   "source": [
    "Hey! That isn't too bad! "
   ]
  },
  {
   "cell_type": "code",
   "execution_count": 4,
   "metadata": {},
   "outputs": [],
   "source": [
    "def cheat_experiment(NROWS, NSIMS, crit_val): \n",
    "    \"\"\"\n",
    "    What happens if we run it the wrong way? \n",
    "    --- \n",
    "    In this experiment, we're going to simulate looking after *every* new person\n",
    "    filters through your experiment. While there is still no treatment effect at \n",
    "    all, the longer we look at the experiment, the more likely we are to call \n",
    "    a winner. \n",
    "    --- \n",
    "    The outter loop works through each of the *simulations* which is an experiment. \n",
    "    The inner loop checks each of the rows in that particular experiment. \n",
    "    \"\"\"\n",
    "    \n",
    "    p_val = np.ones(NROWS)\n",
    "    reject = np.zeros(NSIMS)\n",
    "    \n",
    "    for sim in range(NSIMS): \n",
    "\n",
    "        y1 = np.random.randn(NROWS)\n",
    "        y0 = np.random.randn(NROWS)\n",
    "\n",
    "        for i, row in enumerate(range(10, NROWS)): \n",
    "            p_val[i] = scipy.stats.ttest_ind(y1[:row], y0[:row])[1]\n",
    "            \n",
    "        reject[sim] = np.any(p_val < crit_val)\n",
    "    \n",
    "    return reject "
   ]
  },
  {
   "cell_type": "code",
   "execution_count": null,
   "metadata": {},
   "outputs": [
    {
     "name": "stdout",
     "output_type": "stream",
     "text": [
      "20 -> 30 -> 40 -> 50 -> 60 -> 70 -> 80 -> 90 -> 100 -> 200 -> 300 -> 500 -> 1000 -> 2000 -> "
     ]
    }
   ],
   "source": [
    "res = []\n",
    "exp_size = [20, 30, 40, 50, 60, 70, 80, 90, 100, 200, 300, 500, 1000, 2000]\n",
    "\n",
    "for size in exp_size: \n",
    "    print(size, end=' -> ', flush=True)\n",
    "    res.append(cheat_experiment(size, 1000, 0.05).mean())"
   ]
  },
  {
   "cell_type": "code",
   "execution_count": 147,
   "metadata": {},
   "outputs": [
    {
     "data": {
      "text/plain": [
       "[<matplotlib.lines.Line2D at 0x110bafcf8>]"
      ]
     },
     "execution_count": 147,
     "metadata": {},
     "output_type": "execute_result"
    },
    {
     "data": {
      "image/png": "[encoded data removed]",
      "text/plain": [
       "<matplotlib.figure.Figure at 0x110b0ef98>"
      ]
     },
     "metadata": {},
     "output_type": "display_data"
    }
   ],
   "source": [
    "plt.plot(exp_size, res)"
   ]
  }
 ],
 "metadata": {
  "kernelspec": {
   "display_name": "Python 3",
   "language": "python",
   "name": "python3"
  },
  "language_info": {
   "codemirror_mode": {
    "name": "ipython",
    "version": 3
   },
   "file_extension": ".py",
   "mimetype": "text/x-python",
   "name": "python",
   "nbconvert_exporter": "python",
   "pygments_lexer": "ipython3",
   "version": "3.7.3"
  }
 },
 "nbformat": 4,
 "nbformat_minor": 2
}
