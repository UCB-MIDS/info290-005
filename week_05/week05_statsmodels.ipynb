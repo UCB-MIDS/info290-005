{
 "cells": [
  {
   "cell_type": "markdown",
   "metadata": {},
   "source": [
    "# Regression with Statsmodels"
   ]
  },
  {
   "cell_type": "code",
   "execution_count": 1,
   "metadata": {},
   "outputs": [],
   "source": [
    "import pandas as pd \n",
    "import numpy as np\n",
    "import statsmodels\n",
    "import statsmodels.formula.api as smf\n",
    "from IPython.core.display import HTML\n",
    "from stargazer.stargazer import Stargazer\n",
    "\n",
    "from statsmodels.stats.anova import anova_lm\n",
    "\n",
    "%matplotlib inline"
   ]
  },
  {
   "cell_type": "code",
   "execution_count": 2,
   "metadata": {},
   "outputs": [],
   "source": [
    "d = pd.read_csv('/Users/douglashughes/Downloads/dataverse_files-2/dVote.csv')\n",
    "d.columns = ['in_dex', 'vote_center', 'treat', 'age', 'gender', 'education', 'years_in_us', 'ideology']"
   ]
  },
  {
   "cell_type": "markdown",
   "metadata": {},
   "source": [
    "What is the story with the data in here? Are there any strange things that are happening? Maybe in the `ideology` variable that is a 1-7 likert scale? "
   ]
  },
  {
   "cell_type": "code",
   "execution_count": null,
   "metadata": {},
   "outputs": [],
   "source": []
  },
  {
   "cell_type": "code",
   "execution_count": 3,
   "metadata": {},
   "outputs": [
    {
     "data": {
      "text/html": [
       "<div>\n",
       "<style scoped>\n",
       "    .dataframe tbody tr th:only-of-type {\n",
       "        vertical-align: middle;\n",
       "    }\n",
       "\n",
       "    .dataframe tbody tr th {\n",
       "        vertical-align: top;\n",
       "    }\n",
       "\n",
       "    .dataframe thead th {\n",
       "        text-align: right;\n",
       "    }\n",
       "</style>\n",
       "<table border=\"1\" class=\"dataframe\">\n",
       "  <thead>\n",
       "    <tr style=\"text-align: right;\">\n",
       "      <th></th>\n",
       "      <th>in_dex</th>\n",
       "      <th>vote_center</th>\n",
       "      <th>treat</th>\n",
       "      <th>age</th>\n",
       "      <th>gender</th>\n",
       "      <th>education</th>\n",
       "      <th>years_in_us</th>\n",
       "      <th>ideology</th>\n",
       "    </tr>\n",
       "  </thead>\n",
       "  <tbody>\n",
       "    <tr>\n",
       "      <th>0</th>\n",
       "      <td>1</td>\n",
       "      <td>1.0</td>\n",
       "      <td>1.0</td>\n",
       "      <td>42.0</td>\n",
       "      <td>2</td>\n",
       "      <td>5.0</td>\n",
       "      <td>15.0</td>\n",
       "      <td>8.0</td>\n",
       "    </tr>\n",
       "    <tr>\n",
       "      <th>1</th>\n",
       "      <td>2</td>\n",
       "      <td>0.0</td>\n",
       "      <td>3.0</td>\n",
       "      <td>39.0</td>\n",
       "      <td>2</td>\n",
       "      <td>6.0</td>\n",
       "      <td>25.0</td>\n",
       "      <td>2.0</td>\n",
       "    </tr>\n",
       "    <tr>\n",
       "      <th>2</th>\n",
       "      <td>3</td>\n",
       "      <td>0.0</td>\n",
       "      <td>4.0</td>\n",
       "      <td>49.0</td>\n",
       "      <td>1</td>\n",
       "      <td>4.0</td>\n",
       "      <td>17.0</td>\n",
       "      <td>8.0</td>\n",
       "    </tr>\n",
       "    <tr>\n",
       "      <th>3</th>\n",
       "      <td>4</td>\n",
       "      <td>1.0</td>\n",
       "      <td>3.0</td>\n",
       "      <td>61.0</td>\n",
       "      <td>1</td>\n",
       "      <td>1.0</td>\n",
       "      <td>24.0</td>\n",
       "      <td>6.0</td>\n",
       "    </tr>\n",
       "    <tr>\n",
       "      <th>4</th>\n",
       "      <td>5</td>\n",
       "      <td>0.0</td>\n",
       "      <td>3.0</td>\n",
       "      <td>19.0</td>\n",
       "      <td>1</td>\n",
       "      <td>12.0</td>\n",
       "      <td>9.0</td>\n",
       "      <td>2.0</td>\n",
       "    </tr>\n",
       "  </tbody>\n",
       "</table>\n",
       "</div>"
      ],
      "text/plain": [
       "   in_dex  vote_center  treat   age  gender  education  years_in_us  ideology\n",
       "0       1          1.0    1.0  42.0       2        5.0         15.0       8.0\n",
       "1       2          0.0    3.0  39.0       2        6.0         25.0       2.0\n",
       "2       3          0.0    4.0  49.0       1        4.0         17.0       8.0\n",
       "3       4          1.0    3.0  61.0       1        1.0         24.0       6.0\n",
       "4       5          0.0    3.0  19.0       1       12.0          9.0       2.0"
      ]
     },
     "execution_count": 3,
     "metadata": {},
     "output_type": "execute_result"
    }
   ],
   "source": [
    "d.head()"
   ]
  },
  {
   "cell_type": "markdown",
   "metadata": {},
   "source": [
    "Ok, we're going to have to do some cleaning of this file to get it ready to go.. \n",
    "\n",
    "1. We don't need the extra index column; could probably fix this at read, but :shrug: \n",
    "2. The treatment probably can be just an int, since it is actually a category indicator. \n",
    "3. Age can be an int \n",
    "4. Gender is stored as an int; but we're going to need to know what those lables are \n",
    "5. Years in us can be an int. \n",
    "6. Ideology can can also be an int. \n",
    "\n",
    "Also, there is some item-level missingness. What would you like to do with it? **Blatently** drop it you say? Well, ok then. "
   ]
  },
  {
   "cell_type": "code",
   "execution_count": 4,
   "metadata": {},
   "outputs": [],
   "source": [
    "d.drop('in_dex', axis=1, inplace=True)\n",
    "d.dropna(inplace=True)\n",
    "d = d.astype('int') # no inplace method... because consistency "
   ]
  },
  {
   "cell_type": "code",
   "execution_count": 5,
   "metadata": {},
   "outputs": [
    {
     "data": {
      "text/html": [
       "<div>\n",
       "<style scoped>\n",
       "    .dataframe tbody tr th:only-of-type {\n",
       "        vertical-align: middle;\n",
       "    }\n",
       "\n",
       "    .dataframe tbody tr th {\n",
       "        vertical-align: top;\n",
       "    }\n",
       "\n",
       "    .dataframe thead th {\n",
       "        text-align: right;\n",
       "    }\n",
       "</style>\n",
       "<table border=\"1\" class=\"dataframe\">\n",
       "  <thead>\n",
       "    <tr style=\"text-align: right;\">\n",
       "      <th></th>\n",
       "      <th>vote_center</th>\n",
       "      <th>treat</th>\n",
       "      <th>age</th>\n",
       "      <th>gender</th>\n",
       "      <th>education</th>\n",
       "      <th>years_in_us</th>\n",
       "      <th>ideology</th>\n",
       "    </tr>\n",
       "  </thead>\n",
       "  <tbody>\n",
       "    <tr>\n",
       "      <th>0</th>\n",
       "      <td>1</td>\n",
       "      <td>1</td>\n",
       "      <td>42</td>\n",
       "      <td>2</td>\n",
       "      <td>5</td>\n",
       "      <td>15</td>\n",
       "      <td>8</td>\n",
       "    </tr>\n",
       "    <tr>\n",
       "      <th>1</th>\n",
       "      <td>0</td>\n",
       "      <td>3</td>\n",
       "      <td>39</td>\n",
       "      <td>2</td>\n",
       "      <td>6</td>\n",
       "      <td>25</td>\n",
       "      <td>2</td>\n",
       "    </tr>\n",
       "    <tr>\n",
       "      <th>2</th>\n",
       "      <td>0</td>\n",
       "      <td>4</td>\n",
       "      <td>49</td>\n",
       "      <td>1</td>\n",
       "      <td>4</td>\n",
       "      <td>17</td>\n",
       "      <td>8</td>\n",
       "    </tr>\n",
       "    <tr>\n",
       "      <th>3</th>\n",
       "      <td>1</td>\n",
       "      <td>3</td>\n",
       "      <td>61</td>\n",
       "      <td>1</td>\n",
       "      <td>1</td>\n",
       "      <td>24</td>\n",
       "      <td>6</td>\n",
       "    </tr>\n",
       "    <tr>\n",
       "      <th>4</th>\n",
       "      <td>0</td>\n",
       "      <td>3</td>\n",
       "      <td>19</td>\n",
       "      <td>1</td>\n",
       "      <td>12</td>\n",
       "      <td>9</td>\n",
       "      <td>2</td>\n",
       "    </tr>\n",
       "  </tbody>\n",
       "</table>\n",
       "</div>"
      ],
      "text/plain": [
       "   vote_center  treat  age  gender  education  years_in_us  ideology\n",
       "0            1      1   42       2          5           15         8\n",
       "1            0      3   39       2          6           25         2\n",
       "2            0      4   49       1          4           17         8\n",
       "3            1      3   61       1          1           24         6\n",
       "4            0      3   19       1         12            9         2"
      ]
     },
     "execution_count": 5,
     "metadata": {},
     "output_type": "execute_result"
    }
   ],
   "source": [
    "d.head()"
   ]
  },
  {
   "cell_type": "markdown",
   "metadata": {},
   "source": [
    "Nice nice. "
   ]
  },
  {
   "cell_type": "markdown",
   "metadata": {},
   "source": [
    "# But, what is actually happening in this data?? "
   ]
  },
  {
   "cell_type": "markdown",
   "metadata": {},
   "source": [
    "We're looking at an experiment where individuals who were born in Mexico but live in the United States were asked about \"Which of these candidates do you think that you are most likely to support, if there were an election between them tomorrow.\" \n",
    "\n",
    "So, we're building an information environment where we can manpulate the features that are available to them to base their decision. \n",
    "\n",
    "Here's what that information environment looks when we place subjects into the 'white' condition: \n",
    "\n",
    "![white](./img/faces1.jpg)\n",
    "\n",
    "What it looks like when we put them into the 'mestizo' condition: \n",
    "\n",
    "![mestizo](./img/faces2.jpg)\n",
    "\n",
    "And, here's what the information environment looks like when we place them into the 'indigenous' condition: \n",
    "\n",
    "![img](./img/faces3.jpg)\n",
    "\n",
    "We also provide people with issue statements that are basically, and intentionally, not that interesting. "
   ]
  },
  {
   "cell_type": "markdown",
   "metadata": {},
   "source": [
    "What if we re-level those treatment conditions so that they make a bit more sense. I'm going to subtract one from each of the conditions, so that the control condition (where they get no images) is scored 0, and the other treatment conditions range {1:3}. "
   ]
  },
  {
   "cell_type": "code",
   "execution_count": 6,
   "metadata": {},
   "outputs": [],
   "source": [
    "d['treat'] = d['treat'] - 1"
   ]
  },
  {
   "cell_type": "code",
   "execution_count": 7,
   "metadata": {},
   "outputs": [
    {
     "data": {
      "text/html": [
       "<div>\n",
       "<style scoped>\n",
       "    .dataframe tbody tr th:only-of-type {\n",
       "        vertical-align: middle;\n",
       "    }\n",
       "\n",
       "    .dataframe tbody tr th {\n",
       "        vertical-align: top;\n",
       "    }\n",
       "\n",
       "    .dataframe thead th {\n",
       "        text-align: right;\n",
       "    }\n",
       "</style>\n",
       "<table border=\"1\" class=\"dataframe\">\n",
       "  <thead>\n",
       "    <tr style=\"text-align: right;\">\n",
       "      <th></th>\n",
       "      <th>vote_center</th>\n",
       "      <th>treat</th>\n",
       "      <th>age</th>\n",
       "      <th>gender</th>\n",
       "      <th>education</th>\n",
       "      <th>years_in_us</th>\n",
       "      <th>ideology</th>\n",
       "    </tr>\n",
       "  </thead>\n",
       "  <tbody>\n",
       "    <tr>\n",
       "      <th>0</th>\n",
       "      <td>1</td>\n",
       "      <td>0</td>\n",
       "      <td>42</td>\n",
       "      <td>2</td>\n",
       "      <td>5</td>\n",
       "      <td>15</td>\n",
       "      <td>8</td>\n",
       "    </tr>\n",
       "    <tr>\n",
       "      <th>1</th>\n",
       "      <td>0</td>\n",
       "      <td>2</td>\n",
       "      <td>39</td>\n",
       "      <td>2</td>\n",
       "      <td>6</td>\n",
       "      <td>25</td>\n",
       "      <td>2</td>\n",
       "    </tr>\n",
       "    <tr>\n",
       "      <th>2</th>\n",
       "      <td>0</td>\n",
       "      <td>3</td>\n",
       "      <td>49</td>\n",
       "      <td>1</td>\n",
       "      <td>4</td>\n",
       "      <td>17</td>\n",
       "      <td>8</td>\n",
       "    </tr>\n",
       "    <tr>\n",
       "      <th>3</th>\n",
       "      <td>1</td>\n",
       "      <td>2</td>\n",
       "      <td>61</td>\n",
       "      <td>1</td>\n",
       "      <td>1</td>\n",
       "      <td>24</td>\n",
       "      <td>6</td>\n",
       "    </tr>\n",
       "    <tr>\n",
       "      <th>4</th>\n",
       "      <td>0</td>\n",
       "      <td>2</td>\n",
       "      <td>19</td>\n",
       "      <td>1</td>\n",
       "      <td>12</td>\n",
       "      <td>9</td>\n",
       "      <td>2</td>\n",
       "    </tr>\n",
       "  </tbody>\n",
       "</table>\n",
       "</div>"
      ],
      "text/plain": [
       "   vote_center  treat  age  gender  education  years_in_us  ideology\n",
       "0            1      0   42       2          5           15         8\n",
       "1            0      2   39       2          6           25         2\n",
       "2            0      3   49       1          4           17         8\n",
       "3            1      2   61       1          1           24         6\n",
       "4            0      2   19       1         12            9         2"
      ]
     },
     "execution_count": 7,
     "metadata": {},
     "output_type": "execute_result"
    }
   ],
   "source": [
    "d.head()"
   ]
  },
  {
   "cell_type": "markdown",
   "metadata": {},
   "source": [
    "# Using statsmodels"
   ]
  },
  {
   "cell_type": "markdown",
   "metadata": {},
   "source": [
    "Stats models is built for *rapid* development and testing of linear models in python. They leverage some of the great parts of R -- namely the *formulas* style interface for writing out dependend and independent variable concepts. (Yes, you could get this with [patsy](https://patsy.readthedocs.io/en/latest/) formulas, but there is more that we want from statsmodels too. \n",
    "\n",
    "Formulas are structured as: \n",
    "\n",
    "`DV ~ IV` \n",
    "\n",
    "Where the outcome that we're interested in is the IV, and those model features that we've designed are the IVs. \n",
    "\n",
    "In general, we are going to: \n",
    "\n",
    "- Specify a model\n",
    "- Fit that model (with optional args for the vcov structure) \n",
    "- Inspect features of that model. "
   ]
  },
  {
   "cell_type": "markdown",
   "metadata": {},
   "source": [
    "If we wanted to know, \"What are the chances that someone votes for the *experimental candidate* and examine if those rates are different in across treatments, how would we structure this? "
   ]
  },
  {
   "cell_type": "code",
   "execution_count": 8,
   "metadata": {},
   "outputs": [],
   "source": [
    "mod1 = smf.ols('vote_center ~ treat', data = d)\n",
    "fit_mod1 = mod1.fit()"
   ]
  },
  {
   "cell_type": "code",
   "execution_count": 9,
   "metadata": {},
   "outputs": [
    {
     "data": {
      "text/html": [
       "<table class=\"simpletable\">\n",
       "<caption>OLS Regression Results</caption>\n",
       "<tr>\n",
       "  <th>Dep. Variable:</th>       <td>vote_center</td>   <th>  R-squared:         </th> <td>   0.012</td>\n",
       "</tr>\n",
       "<tr>\n",
       "  <th>Model:</th>                   <td>OLS</td>       <th>  Adj. R-squared:    </th> <td>   0.005</td>\n",
       "</tr>\n",
       "<tr>\n",
       "  <th>Method:</th>             <td>Least Squares</td>  <th>  F-statistic:       </th> <td>   1.900</td>\n",
       "</tr>\n",
       "<tr>\n",
       "  <th>Date:</th>             <td>Tue, 02 Oct 2018</td> <th>  Prob (F-statistic):</th>  <td> 0.170</td> \n",
       "</tr>\n",
       "<tr>\n",
       "  <th>Time:</th>                 <td>18:34:15</td>     <th>  Log-Likelihood:    </th> <td> -108.66</td>\n",
       "</tr>\n",
       "<tr>\n",
       "  <th>No. Observations:</th>      <td>   164</td>      <th>  AIC:               </th> <td>   221.3</td>\n",
       "</tr>\n",
       "<tr>\n",
       "  <th>Df Residuals:</th>          <td>   162</td>      <th>  BIC:               </th> <td>   227.5</td>\n",
       "</tr>\n",
       "<tr>\n",
       "  <th>Df Model:</th>              <td>     1</td>      <th>                     </th>     <td> </td>   \n",
       "</tr>\n",
       "<tr>\n",
       "  <th>Covariance Type:</th>      <td>nonrobust</td>    <th>                     </th>     <td> </td>   \n",
       "</tr>\n",
       "</table>\n",
       "<table class=\"simpletable\">\n",
       "<tr>\n",
       "      <td></td>         <th>coef</th>     <th>std err</th>      <th>t</th>      <th>P>|t|</th>  <th>[0.025</th>    <th>0.975]</th>  \n",
       "</tr>\n",
       "<tr>\n",
       "  <th>Intercept</th> <td>    0.2685</td> <td>    0.061</td> <td>    4.404</td> <td> 0.000</td> <td>    0.148</td> <td>    0.389</td>\n",
       "</tr>\n",
       "<tr>\n",
       "  <th>treat</th>     <td>    0.0446</td> <td>    0.032</td> <td>    1.378</td> <td> 0.170</td> <td>   -0.019</td> <td>    0.109</td>\n",
       "</tr>\n",
       "</table>\n",
       "<table class=\"simpletable\">\n",
       "<tr>\n",
       "  <th>Omnibus:</th>       <td>841.733</td> <th>  Durbin-Watson:     </th> <td>   1.970</td>\n",
       "</tr>\n",
       "<tr>\n",
       "  <th>Prob(Omnibus):</th> <td> 0.000</td>  <th>  Jarque-Bera (JB):  </th> <td>  27.796</td>\n",
       "</tr>\n",
       "<tr>\n",
       "  <th>Skew:</th>          <td> 0.688</td>  <th>  Prob(JB):          </th> <td>9.21e-07</td>\n",
       "</tr>\n",
       "<tr>\n",
       "  <th>Kurtosis:</th>      <td> 1.525</td>  <th>  Cond. No.          </th> <td>    3.72</td>\n",
       "</tr>\n",
       "</table>"
      ],
      "text/plain": [
       "<class 'statsmodels.iolib.summary.Summary'>\n",
       "\"\"\"\n",
       "                            OLS Regression Results                            \n",
       "==============================================================================\n",
       "Dep. Variable:            vote_center   R-squared:                       0.012\n",
       "Model:                            OLS   Adj. R-squared:                  0.005\n",
       "Method:                 Least Squares   F-statistic:                     1.900\n",
       "Date:                Tue, 02 Oct 2018   Prob (F-statistic):              0.170\n",
       "Time:                        18:34:15   Log-Likelihood:                -108.66\n",
       "No. Observations:                 164   AIC:                             221.3\n",
       "Df Residuals:                     162   BIC:                             227.5\n",
       "Df Model:                           1                                         \n",
       "Covariance Type:            nonrobust                                         \n",
       "==============================================================================\n",
       "                 coef    std err          t      P>|t|      [0.025      0.975]\n",
       "------------------------------------------------------------------------------\n",
       "Intercept      0.2685      0.061      4.404      0.000       0.148       0.389\n",
       "treat          0.0446      0.032      1.378      0.170      -0.019       0.109\n",
       "==============================================================================\n",
       "Omnibus:                      841.733   Durbin-Watson:                   1.970\n",
       "Prob(Omnibus):                  0.000   Jarque-Bera (JB):               27.796\n",
       "Skew:                           0.688   Prob(JB):                     9.21e-07\n",
       "Kurtosis:                       1.525   Cond. No.                         3.72\n",
       "==============================================================================\n",
       "\n",
       "Warnings:\n",
       "[1] Standard Errors assume that the covariance matrix of the errors is correctly specified.\n",
       "\"\"\""
      ]
     },
     "execution_count": 9,
     "metadata": {},
     "output_type": "execute_result"
    }
   ],
   "source": [
    "fit_mod1.summary()"
   ]
  },
  {
   "cell_type": "markdown",
   "metadata": {},
   "source": [
    "With this output, we can read into the performance of our model, and interpret coefficeints. In this case, we can know that for each marginal change in the treatment the person was in, there is a 9% increase in the likelihood of voting for the experimental candidate. "
   ]
  },
  {
   "cell_type": "markdown",
   "metadata": {},
   "source": [
    "*Does that make sense...*"
   ]
  },
  {
   "cell_type": "markdown",
   "metadata": {},
   "source": [
    "## Any Treatment? \n",
    "What if people received any form of picture? Did this affect their probability of voting for the center candidate? There are two ways, practically, that we can undertake this question. First, we could include a new feature onto the dataset that is just a `True` if they were in any of the treatment conditions, and `False` if they were in the control condition. This is pretty nice, and makes a persistent feature that we could refer to later. "
   ]
  },
  {
   "cell_type": "code",
   "execution_count": 10,
   "metadata": {},
   "outputs": [],
   "source": [
    "d['any_treat'] = d['treat'] > 0"
   ]
  },
  {
   "cell_type": "code",
   "execution_count": 11,
   "metadata": {},
   "outputs": [
    {
     "data": {
      "text/html": [
       "<div>\n",
       "<style scoped>\n",
       "    .dataframe tbody tr th:only-of-type {\n",
       "        vertical-align: middle;\n",
       "    }\n",
       "\n",
       "    .dataframe tbody tr th {\n",
       "        vertical-align: top;\n",
       "    }\n",
       "\n",
       "    .dataframe thead th {\n",
       "        text-align: right;\n",
       "    }\n",
       "</style>\n",
       "<table border=\"1\" class=\"dataframe\">\n",
       "  <thead>\n",
       "    <tr style=\"text-align: right;\">\n",
       "      <th></th>\n",
       "      <th>vote_center</th>\n",
       "      <th>treat</th>\n",
       "      <th>age</th>\n",
       "      <th>gender</th>\n",
       "      <th>education</th>\n",
       "      <th>years_in_us</th>\n",
       "      <th>ideology</th>\n",
       "      <th>any_treat</th>\n",
       "    </tr>\n",
       "  </thead>\n",
       "  <tbody>\n",
       "    <tr>\n",
       "      <th>0</th>\n",
       "      <td>1</td>\n",
       "      <td>0</td>\n",
       "      <td>42</td>\n",
       "      <td>2</td>\n",
       "      <td>5</td>\n",
       "      <td>15</td>\n",
       "      <td>8</td>\n",
       "      <td>False</td>\n",
       "    </tr>\n",
       "    <tr>\n",
       "      <th>1</th>\n",
       "      <td>0</td>\n",
       "      <td>2</td>\n",
       "      <td>39</td>\n",
       "      <td>2</td>\n",
       "      <td>6</td>\n",
       "      <td>25</td>\n",
       "      <td>2</td>\n",
       "      <td>True</td>\n",
       "    </tr>\n",
       "    <tr>\n",
       "      <th>2</th>\n",
       "      <td>0</td>\n",
       "      <td>3</td>\n",
       "      <td>49</td>\n",
       "      <td>1</td>\n",
       "      <td>4</td>\n",
       "      <td>17</td>\n",
       "      <td>8</td>\n",
       "      <td>True</td>\n",
       "    </tr>\n",
       "    <tr>\n",
       "      <th>3</th>\n",
       "      <td>1</td>\n",
       "      <td>2</td>\n",
       "      <td>61</td>\n",
       "      <td>1</td>\n",
       "      <td>1</td>\n",
       "      <td>24</td>\n",
       "      <td>6</td>\n",
       "      <td>True</td>\n",
       "    </tr>\n",
       "    <tr>\n",
       "      <th>4</th>\n",
       "      <td>0</td>\n",
       "      <td>2</td>\n",
       "      <td>19</td>\n",
       "      <td>1</td>\n",
       "      <td>12</td>\n",
       "      <td>9</td>\n",
       "      <td>2</td>\n",
       "      <td>True</td>\n",
       "    </tr>\n",
       "  </tbody>\n",
       "</table>\n",
       "</div>"
      ],
      "text/plain": [
       "   vote_center  treat  age  gender  education  years_in_us  ideology  \\\n",
       "0            1      0   42       2          5           15         8   \n",
       "1            0      2   39       2          6           25         2   \n",
       "2            0      3   49       1          4           17         8   \n",
       "3            1      2   61       1          1           24         6   \n",
       "4            0      2   19       1         12            9         2   \n",
       "\n",
       "   any_treat  \n",
       "0      False  \n",
       "1       True  \n",
       "2       True  \n",
       "3       True  \n",
       "4       True  "
      ]
     },
     "execution_count": 11,
     "metadata": {},
     "output_type": "execute_result"
    }
   ],
   "source": [
    "d.head()"
   ]
  },
  {
   "cell_type": "markdown",
   "metadata": {},
   "source": [
    "The other way would be to make a more ephemeral feature, within the model call, that will *not* persist beyond the model call. On the one hand, this is nice because it keeps from making a large number of transforms against the data; and, also, it doesn't engineer new data that we might not end up using. On the other hand, though, it does increase the time that it takes for a model to run, because we have to compute the vector transform at the time of the model fit. "
   ]
  },
  {
   "cell_type": "code",
   "execution_count": 12,
   "metadata": {},
   "outputs": [],
   "source": [
    "any_treat1 = smf.ols('vote_center ~ any_treat', data = d).fit()\n",
    "any_treat2 = smf.ols('vote_center ~ C(treat > 0)', data = d).fit()"
   ]
  },
  {
   "cell_type": "code",
   "execution_count": 13,
   "metadata": {},
   "outputs": [
    {
     "data": {
      "text/plain": [
       "Intercept            0.302326\n",
       "any_treat[T.True]    0.044782\n",
       "dtype: float64"
      ]
     },
     "execution_count": 13,
     "metadata": {},
     "output_type": "execute_result"
    }
   ],
   "source": [
    "any_treat1.params"
   ]
  },
  {
   "cell_type": "code",
   "execution_count": 14,
   "metadata": {},
   "outputs": [
    {
     "data": {
      "text/plain": [
       "Intercept               0.302326\n",
       "C(treat > 0)[T.True]    0.044782\n",
       "dtype: float64"
      ]
     },
     "execution_count": 14,
     "metadata": {},
     "output_type": "execute_result"
    }
   ],
   "source": [
    "any_treat2.params"
   ]
  },
  {
   "cell_type": "markdown",
   "metadata": {},
   "source": [
    "The good news, it seems, is that these produce identical estimates. "
   ]
  },
  {
   "cell_type": "markdown",
   "metadata": {},
   "source": [
    "## Factors of Treatment \n",
    "Of course, the *marginal* interpretation of our treatment conditions was incorrect. Those are actually categorical variables that we assigned to people, not a numeric feature that varries with consistent difference between levels. \n",
    "\n",
    "Just like when creating the `any_treat` feature, we could build the new version in a number of ways. If we want to make a permanent feature, we can use `pd.get_dummies()`. "
   ]
  },
  {
   "cell_type": "code",
   "execution_count": 15,
   "metadata": {},
   "outputs": [
    {
     "data": {
      "text/html": [
       "<div>\n",
       "<style scoped>\n",
       "    .dataframe tbody tr th:only-of-type {\n",
       "        vertical-align: middle;\n",
       "    }\n",
       "\n",
       "    .dataframe tbody tr th {\n",
       "        vertical-align: top;\n",
       "    }\n",
       "\n",
       "    .dataframe thead th {\n",
       "        text-align: right;\n",
       "    }\n",
       "</style>\n",
       "<table border=\"1\" class=\"dataframe\">\n",
       "  <thead>\n",
       "    <tr style=\"text-align: right;\">\n",
       "      <th></th>\n",
       "      <th>vote_center</th>\n",
       "      <th>treat</th>\n",
       "      <th>age</th>\n",
       "      <th>gender</th>\n",
       "      <th>education</th>\n",
       "      <th>years_in_us</th>\n",
       "      <th>ideology</th>\n",
       "      <th>any_treat</th>\n",
       "    </tr>\n",
       "  </thead>\n",
       "  <tbody>\n",
       "    <tr>\n",
       "      <th>0</th>\n",
       "      <td>1</td>\n",
       "      <td>0</td>\n",
       "      <td>42</td>\n",
       "      <td>2</td>\n",
       "      <td>5</td>\n",
       "      <td>15</td>\n",
       "      <td>8</td>\n",
       "      <td>False</td>\n",
       "    </tr>\n",
       "    <tr>\n",
       "      <th>1</th>\n",
       "      <td>0</td>\n",
       "      <td>2</td>\n",
       "      <td>39</td>\n",
       "      <td>2</td>\n",
       "      <td>6</td>\n",
       "      <td>25</td>\n",
       "      <td>2</td>\n",
       "      <td>True</td>\n",
       "    </tr>\n",
       "    <tr>\n",
       "      <th>2</th>\n",
       "      <td>0</td>\n",
       "      <td>3</td>\n",
       "      <td>49</td>\n",
       "      <td>1</td>\n",
       "      <td>4</td>\n",
       "      <td>17</td>\n",
       "      <td>8</td>\n",
       "      <td>True</td>\n",
       "    </tr>\n",
       "    <tr>\n",
       "      <th>3</th>\n",
       "      <td>1</td>\n",
       "      <td>2</td>\n",
       "      <td>61</td>\n",
       "      <td>1</td>\n",
       "      <td>1</td>\n",
       "      <td>24</td>\n",
       "      <td>6</td>\n",
       "      <td>True</td>\n",
       "    </tr>\n",
       "    <tr>\n",
       "      <th>4</th>\n",
       "      <td>0</td>\n",
       "      <td>2</td>\n",
       "      <td>19</td>\n",
       "      <td>1</td>\n",
       "      <td>12</td>\n",
       "      <td>9</td>\n",
       "      <td>2</td>\n",
       "      <td>True</td>\n",
       "    </tr>\n",
       "  </tbody>\n",
       "</table>\n",
       "</div>"
      ],
      "text/plain": [
       "   vote_center  treat  age  gender  education  years_in_us  ideology  \\\n",
       "0            1      0   42       2          5           15         8   \n",
       "1            0      2   39       2          6           25         2   \n",
       "2            0      3   49       1          4           17         8   \n",
       "3            1      2   61       1          1           24         6   \n",
       "4            0      2   19       1         12            9         2   \n",
       "\n",
       "   any_treat  \n",
       "0      False  \n",
       "1       True  \n",
       "2       True  \n",
       "3       True  \n",
       "4       True  "
      ]
     },
     "execution_count": 15,
     "metadata": {},
     "output_type": "execute_result"
    }
   ],
   "source": [
    "d.head()"
   ]
  },
  {
   "cell_type": "code",
   "execution_count": 16,
   "metadata": {},
   "outputs": [],
   "source": [
    "dummies = pd.get_dummies(d['treat'], prefix='treat')\n",
    "d = pd.concat([d, dummies], axis=1)\n",
    "\n",
    "mod_dummies_1 = smf.ols('vote_center ~ 1 + treat_1 + treat_2 + treat_3', data = d).fit()"
   ]
  },
  {
   "cell_type": "markdown",
   "metadata": {},
   "source": [
    "But, we can also do this work using the `C` operator in the formula notation. "
   ]
  },
  {
   "cell_type": "code",
   "execution_count": 17,
   "metadata": {},
   "outputs": [],
   "source": [
    "mod_dummies_2 = smf.ols('vote_center ~ 1 + C(treat)', data = d).fit()"
   ]
  },
  {
   "cell_type": "code",
   "execution_count": 18,
   "metadata": {},
   "outputs": [
    {
     "data": {
      "text/plain": [
       "Intercept    0.302326\n",
       "treat_1      0.005367\n",
       "treat_2     -0.045915\n",
       "treat_3      0.162791\n",
       "dtype: float64"
      ]
     },
     "execution_count": 18,
     "metadata": {},
     "output_type": "execute_result"
    }
   ],
   "source": [
    "mod_dummies_1.params"
   ]
  },
  {
   "cell_type": "code",
   "execution_count": 19,
   "metadata": {},
   "outputs": [
    {
     "data": {
      "text/plain": [
       "Intercept    0.302326\n",
       "treat_1      0.005367\n",
       "treat_2     -0.045915\n",
       "treat_3      0.162791\n",
       "dtype: float64"
      ]
     },
     "execution_count": 19,
     "metadata": {},
     "output_type": "execute_result"
    }
   ],
   "source": [
    "mod_dummies_1.params"
   ]
  },
  {
   "cell_type": "markdown",
   "metadata": {},
   "source": [
    "Wait, aren't those numeric variables in the first call? Aren't they factor variables in the second? **Yes**. What about the dummy variables being coded as 0/1 and as True/False makes this possible? "
   ]
  },
  {
   "cell_type": "markdown",
   "metadata": {},
   "source": [
    "# Can we improve this with covariates? \n",
    "\n",
    "One of the claims that we made before is that covariates that are predictive of outcomes should improve the fit of the model, without changing measurably the cofficient that we estimate for the model. Let's see if this works. "
   ]
  },
  {
   "cell_type": "code",
   "execution_count": 20,
   "metadata": {},
   "outputs": [
    {
     "data": {
      "text/html": [
       "<div>\n",
       "<style scoped>\n",
       "    .dataframe tbody tr th:only-of-type {\n",
       "        vertical-align: middle;\n",
       "    }\n",
       "\n",
       "    .dataframe tbody tr th {\n",
       "        vertical-align: top;\n",
       "    }\n",
       "\n",
       "    .dataframe thead th {\n",
       "        text-align: right;\n",
       "    }\n",
       "</style>\n",
       "<table border=\"1\" class=\"dataframe\">\n",
       "  <thead>\n",
       "    <tr style=\"text-align: right;\">\n",
       "      <th></th>\n",
       "      <th>vote_center</th>\n",
       "      <th>treat</th>\n",
       "      <th>age</th>\n",
       "      <th>gender</th>\n",
       "      <th>education</th>\n",
       "      <th>years_in_us</th>\n",
       "      <th>ideology</th>\n",
       "      <th>any_treat</th>\n",
       "      <th>treat_0</th>\n",
       "      <th>treat_1</th>\n",
       "      <th>treat_2</th>\n",
       "      <th>treat_3</th>\n",
       "    </tr>\n",
       "  </thead>\n",
       "  <tbody>\n",
       "    <tr>\n",
       "      <th>0</th>\n",
       "      <td>1</td>\n",
       "      <td>0</td>\n",
       "      <td>42</td>\n",
       "      <td>2</td>\n",
       "      <td>5</td>\n",
       "      <td>15</td>\n",
       "      <td>8</td>\n",
       "      <td>False</td>\n",
       "      <td>1</td>\n",
       "      <td>0</td>\n",
       "      <td>0</td>\n",
       "      <td>0</td>\n",
       "    </tr>\n",
       "    <tr>\n",
       "      <th>1</th>\n",
       "      <td>0</td>\n",
       "      <td>2</td>\n",
       "      <td>39</td>\n",
       "      <td>2</td>\n",
       "      <td>6</td>\n",
       "      <td>25</td>\n",
       "      <td>2</td>\n",
       "      <td>True</td>\n",
       "      <td>0</td>\n",
       "      <td>0</td>\n",
       "      <td>1</td>\n",
       "      <td>0</td>\n",
       "    </tr>\n",
       "    <tr>\n",
       "      <th>2</th>\n",
       "      <td>0</td>\n",
       "      <td>3</td>\n",
       "      <td>49</td>\n",
       "      <td>1</td>\n",
       "      <td>4</td>\n",
       "      <td>17</td>\n",
       "      <td>8</td>\n",
       "      <td>True</td>\n",
       "      <td>0</td>\n",
       "      <td>0</td>\n",
       "      <td>0</td>\n",
       "      <td>1</td>\n",
       "    </tr>\n",
       "    <tr>\n",
       "      <th>3</th>\n",
       "      <td>1</td>\n",
       "      <td>2</td>\n",
       "      <td>61</td>\n",
       "      <td>1</td>\n",
       "      <td>1</td>\n",
       "      <td>24</td>\n",
       "      <td>6</td>\n",
       "      <td>True</td>\n",
       "      <td>0</td>\n",
       "      <td>0</td>\n",
       "      <td>1</td>\n",
       "      <td>0</td>\n",
       "    </tr>\n",
       "    <tr>\n",
       "      <th>4</th>\n",
       "      <td>0</td>\n",
       "      <td>2</td>\n",
       "      <td>19</td>\n",
       "      <td>1</td>\n",
       "      <td>12</td>\n",
       "      <td>9</td>\n",
       "      <td>2</td>\n",
       "      <td>True</td>\n",
       "      <td>0</td>\n",
       "      <td>0</td>\n",
       "      <td>1</td>\n",
       "      <td>0</td>\n",
       "    </tr>\n",
       "  </tbody>\n",
       "</table>\n",
       "</div>"
      ],
      "text/plain": [
       "   vote_center  treat  age  gender  education  years_in_us  ideology  \\\n",
       "0            1      0   42       2          5           15         8   \n",
       "1            0      2   39       2          6           25         2   \n",
       "2            0      3   49       1          4           17         8   \n",
       "3            1      2   61       1          1           24         6   \n",
       "4            0      2   19       1         12            9         2   \n",
       "\n",
       "   any_treat  treat_0  treat_1  treat_2  treat_3  \n",
       "0      False        1        0        0        0  \n",
       "1       True        0        0        1        0  \n",
       "2       True        0        0        0        1  \n",
       "3       True        0        0        1        0  \n",
       "4       True        0        0        1        0  "
      ]
     },
     "execution_count": 20,
     "metadata": {},
     "output_type": "execute_result"
    }
   ],
   "source": [
    "d.head()"
   ]
  },
  {
   "cell_type": "code",
   "execution_count": 21,
   "metadata": {},
   "outputs": [],
   "source": [
    "mod3 = smf.ols('vote_center ~ 1 + C(treat)', data = d).fit()\n",
    "mod4 = smf.ols('vote_center ~ 1 + C(treat) + C(gender) + C(ideology)', data = d).fit()"
   ]
  },
  {
   "cell_type": "markdown",
   "metadata": {},
   "source": [
    "Let's look to see what, if anything changes beween the two models. "
   ]
  },
  {
   "cell_type": "code",
   "execution_count": 22,
   "metadata": {},
   "outputs": [
    {
     "data": {
      "text/html": [
       "<table style=\"text-align:center\"><tr><td colspan=\"3\" style=\"border-bottom: 1px solid black\"></td></tr><tr><td style=\"text-align:left\"></td><td colspan=\"2\"><em>Dependent variable:</em></td></tr><tr><td style=\"text-align:left\"></td><tr><td style=\"text-align:left\"></td><td>(1)</td><td>(2)</td></tr><tr><td colspan=\"3\" style=\"border-bottom: 1px solid black\"></td></tr><tr><td style=\"text-align:left\">C(gender)[T.2]</td><td></td><td>0.15<sup>*</sup></td></tr><tr><td style=\"text-align:left\"></td><td></td><td>(0.08)</td></tr><tr><td style=\"text-align:left\">C(ideology)[T.2]</td><td></td><td>0.129<sup></sup></td></tr><tr><td style=\"text-align:left\"></td><td></td><td>(0.213)</td></tr><tr><td style=\"text-align:left\">C(ideology)[T.3]</td><td></td><td>0.496<sup>**</sup></td></tr><tr><td style=\"text-align:left\"></td><td></td><td>(0.228)</td></tr><tr><td style=\"text-align:left\">C(ideology)[T.4]</td><td></td><td>0.181<sup></sup></td></tr><tr><td style=\"text-align:left\"></td><td></td><td>(0.212)</td></tr><tr><td style=\"text-align:left\">C(ideology)[T.5]</td><td></td><td>0.224<sup></sup></td></tr><tr><td style=\"text-align:left\"></td><td></td><td>(0.251)</td></tr><tr><td style=\"text-align:left\">C(ideology)[T.6]</td><td></td><td>0.352<sup>*</sup></td></tr><tr><td style=\"text-align:left\"></td><td></td><td>(0.211)</td></tr><tr><td style=\"text-align:left\">C(ideology)[T.7]</td><td></td><td>0.65<sup>**</sup></td></tr><tr><td style=\"text-align:left\"></td><td></td><td>(0.3)</td></tr><tr><td style=\"text-align:left\">C(ideology)[T.8]</td><td></td><td>0.326<sup></sup></td></tr><tr><td style=\"text-align:left\"></td><td></td><td>(0.204)</td></tr><tr><td style=\"text-align:left\">C(ideology)[T.998]</td><td></td><td>0.321<sup></sup></td></tr><tr><td style=\"text-align:left\"></td><td></td><td>(0.251)</td></tr><tr><td style=\"text-align:left\">C(treat)[T.1]</td><td>0.005<sup></sup></td><td>0.027<sup></sup></td></tr><tr><td style=\"text-align:left\"></td><td>(0.104)</td><td>(0.106)</td></tr><tr><td style=\"text-align:left\">C(treat)[T.2]</td><td>-0.046<sup></sup></td><td>-0.043<sup></sup></td></tr><tr><td style=\"text-align:left\"></td><td>(0.104)</td><td>(0.103)</td></tr><tr><td style=\"text-align:left\">C(treat)[T.3]</td><td>0.163<sup></sup></td><td>0.156<sup></sup></td></tr><tr><td style=\"text-align:left\"></td><td>(0.102)</td><td>(0.101)</td></tr><tr><td style=\"text-align:left\">Intercept</td><td>0.302<sup>***</sup></td><td>-0.079<sup></sup></td></tr><tr><td style=\"text-align:left\"></td><td>(0.072)</td><td>(0.202)</td></tr><td colspan=\"3\" style=\"border-bottom: 1px solid black\"></td></tr><tr><td style=\"text-align: left\">Observations</td><td>164.0</td><td>164.0</td></tr><tr><td style=\"text-align: left\">R<sup>2</sup></td><td>0.029</td><td>0.12</td></tr><tr><td style=\"text-align: left\">Adjusted R<sup>2</sup></td><td>0.01</td><td>0.05</td></tr><tr><td style=\"text-align: left\">Residual Std. Error</td><td>0.471(df = 160.0)</td><td>0.462(df = 151.0)</td></tr><tr><td style=\"text-align: left\">F Statistic</td><td>1.568<sup></sup>(df = 3.0; 160.0)</td><td>1.713<sup>*</sup>(df = 12.0; 151.0)</td></tr><tr><td colspan=\"3\" style=\"border-bottom: 1px solid black\"></td></tr><tr><td style=\"text-align: left\">Note:</td><td colspan=\"2\" style=\"text-align: right\"><em>p&lt;0.1</em>; <b>p&lt;0.05</b>; p&lt;0.01</td></tr></table>"
      ],
      "text/plain": [
       "<IPython.core.display.HTML object>"
      ]
     },
     "execution_count": 22,
     "metadata": {},
     "output_type": "execute_result"
    }
   ],
   "source": [
    "sg = Stargazer([mod3, mod4]).render_html()\n",
    "HTML(sg)"
   ]
  },
  {
   "cell_type": "markdown",
   "metadata": {},
   "source": [
    "There are a *lot* of levels in that ideology feature; rather than understanding whether any one level of those features is useful in explaining the outcome, what if we wanted to know instead whether *all* the levels of that entire feature were useful? \n",
    "\n",
    "Enter the f-test. Here, we can use the `statsmodels.stats.anova.anova_lm` method to look at whether restricting *all* of the levels of a feature to be zero (that is, requiring that there is no effect of that parameter) makes the model predict the outcome measurably (i.e. significantly) worse than letting those parameters be free. "
   ]
  },
  {
   "cell_type": "code",
   "execution_count": 23,
   "metadata": {},
   "outputs": [
    {
     "name": "stderr",
     "output_type": "stream",
     "text": [
      "/usr/local/lib/python3.6/site-packages/scipy/stats/_distn_infrastructure.py:879: RuntimeWarning: invalid value encountered in greater\n",
      "  return (self.a < x) & (x < self.b)\n",
      "/usr/local/lib/python3.6/site-packages/scipy/stats/_distn_infrastructure.py:879: RuntimeWarning: invalid value encountered in less\n",
      "  return (self.a < x) & (x < self.b)\n",
      "/usr/local/lib/python3.6/site-packages/scipy/stats/_distn_infrastructure.py:1821: RuntimeWarning: invalid value encountered in less_equal\n",
      "  cond2 = cond0 & (x <= self.a)\n"
     ]
    },
    {
     "data": {
      "text/html": [
       "<div>\n",
       "<style scoped>\n",
       "    .dataframe tbody tr th:only-of-type {\n",
       "        vertical-align: middle;\n",
       "    }\n",
       "\n",
       "    .dataframe tbody tr th {\n",
       "        vertical-align: top;\n",
       "    }\n",
       "\n",
       "    .dataframe thead th {\n",
       "        text-align: right;\n",
       "    }\n",
       "</style>\n",
       "<table border=\"1\" class=\"dataframe\">\n",
       "  <thead>\n",
       "    <tr style=\"text-align: right;\">\n",
       "      <th></th>\n",
       "      <th>df</th>\n",
       "      <th>sum_sq</th>\n",
       "      <th>mean_sq</th>\n",
       "      <th>F</th>\n",
       "      <th>PR(&gt;F)</th>\n",
       "    </tr>\n",
       "  </thead>\n",
       "  <tbody>\n",
       "    <tr>\n",
       "      <th>C(treat)</th>\n",
       "      <td>3.0</td>\n",
       "      <td>1.043846</td>\n",
       "      <td>0.347949</td>\n",
       "      <td>1.632977</td>\n",
       "      <td>0.184128</td>\n",
       "    </tr>\n",
       "    <tr>\n",
       "      <th>C(gender)</th>\n",
       "      <td>1.0</td>\n",
       "      <td>0.576797</td>\n",
       "      <td>0.576797</td>\n",
       "      <td>2.706995</td>\n",
       "      <td>0.101989</td>\n",
       "    </tr>\n",
       "    <tr>\n",
       "      <th>C(ideology)</th>\n",
       "      <td>8.0</td>\n",
       "      <td>2.759707</td>\n",
       "      <td>0.344963</td>\n",
       "      <td>1.618966</td>\n",
       "      <td>0.123721</td>\n",
       "    </tr>\n",
       "    <tr>\n",
       "      <th>Residual</th>\n",
       "      <td>151.0</td>\n",
       "      <td>32.174528</td>\n",
       "      <td>0.213076</td>\n",
       "      <td>NaN</td>\n",
       "      <td>NaN</td>\n",
       "    </tr>\n",
       "  </tbody>\n",
       "</table>\n",
       "</div>"
      ],
      "text/plain": [
       "                df     sum_sq   mean_sq         F    PR(>F)\n",
       "C(treat)       3.0   1.043846  0.347949  1.632977  0.184128\n",
       "C(gender)      1.0   0.576797  0.576797  2.706995  0.101989\n",
       "C(ideology)    8.0   2.759707  0.344963  1.618966  0.123721\n",
       "Residual     151.0  32.174528  0.213076       NaN       NaN"
      ]
     },
     "execution_count": 23,
     "metadata": {},
     "output_type": "execute_result"
    }
   ],
   "source": [
    "statsmodels.stats.anova.anova_lm(mod4)\n",
    "# yep, there's a huge error that gets thrown; what I read about it suggests that this is not a concern for us. "
   ]
  },
  {
   "cell_type": "markdown",
   "metadata": {},
   "source": [
    "As we read this, there isn't a lot to suggest that *any* of these features, on their own, are predictive of outcomes. One thing to keep in mind is that: \n",
    "\n",
    "- Features that we *design* to be causal, retain that in these estimates. \n",
    "- Features that we **do not** *design* to be causal don't pick up any causal flavor just because we've put them through a regression. "
   ]
  },
  {
   "cell_type": "markdown",
   "metadata": {},
   "source": [
    "# Fitting with Heteroskedastic Consistent (Robust) Standard Errors \n",
    "David gives a great justification for why \"robust\" standard errors are well-justified in our data. And, implementing these with `statsmodels` borders on being trivial. "
   ]
  },
  {
   "cell_type": "markdown",
   "metadata": {},
   "source": [
    "If you have a model that has already been fit, you use a function against the model object to pull the `HC1` errors from that model object. "
   ]
  },
  {
   "cell_type": "code",
   "execution_count": 24,
   "metadata": {},
   "outputs": [
    {
     "data": {
      "text/plain": [
       "array([ 0.0709074 ,  0.10308444,  0.10019432,  0.1046812 ])"
      ]
     },
     "execution_count": 24,
     "metadata": {},
     "output_type": "execute_result"
    }
   ],
   "source": [
    "statsmodels.regression.linear_model.RegressionResults.HC1_se(mod3)"
   ]
  },
  {
   "cell_type": "markdown",
   "metadata": {},
   "source": [
    "However, more common in practice is to call for the robust standard errors at the time that you're fitting the model. On the one hand, this does remove your ability to pull off *standard* standard errors, but on the other hand, you probably want robust SEs anyways. "
   ]
  },
  {
   "cell_type": "code",
   "execution_count": 25,
   "metadata": {},
   "outputs": [
    {
     "name": "stderr",
     "output_type": "stream",
     "text": [
      "/usr/local/lib/python3.6/site-packages/statsmodels/compat/pandas.py:56: FutureWarning: The pandas.core.datetools module is deprecated and will be removed in a future version. Please use the pandas.tseries module instead.\n",
      "  from pandas.core import datetools\n"
     ]
    }
   ],
   "source": [
    "robust_mod3 = smf.ols('vote_center ~ 1 + C(treat)', data = d).fit(cov_type = 'HC1')"
   ]
  },
  {
   "cell_type": "code",
   "execution_count": 27,
   "metadata": {},
   "outputs": [
    {
     "data": {
      "text/html": [
       "<table style=\"text-align:center\"><tr><td colspan=\"3\" style=\"border-bottom: 1px solid black\"></td></tr><tr><td style=\"text-align:left\"></td><td colspan=\"2\"><em>Dependent variable:</em></td></tr><tr><td style=\"text-align:left\"></td><tr><td style=\"text-align:left\"></td><td>(1)</td><td>(2)</td></tr><tr><td colspan=\"3\" style=\"border-bottom: 1px solid black\"></td></tr><tr><td style=\"text-align:left\">C(treat)[T.1]</td><td>0.005<sup></sup></td><td>0.005<sup></sup></td></tr><tr><td style=\"text-align:left\"></td><td>(0.104)</td><td>(0.103)</td></tr><tr><td style=\"text-align:left\">C(treat)[T.2]</td><td>-0.046<sup></sup></td><td>-0.046<sup></sup></td></tr><tr><td style=\"text-align:left\"></td><td>(0.104)</td><td>(0.1)</td></tr><tr><td style=\"text-align:left\">C(treat)[T.3]</td><td>0.163<sup></sup></td><td>0.163<sup></sup></td></tr><tr><td style=\"text-align:left\"></td><td>(0.102)</td><td>(0.105)</td></tr><tr><td style=\"text-align:left\">Intercept</td><td>0.302<sup>***</sup></td><td>0.302<sup>***</sup></td></tr><tr><td style=\"text-align:left\"></td><td>(0.072)</td><td>(0.071)</td></tr><td colspan=\"3\" style=\"border-bottom: 1px solid black\"></td></tr><tr><td style=\"text-align: left\">Observations</td><td>164.0</td><td>164.0</td></tr><tr><td style=\"text-align: left\">R<sup>2</sup></td><td>0.029</td><td>0.029</td></tr><tr><td style=\"text-align: left\">Adjusted R<sup>2</sup></td><td>0.01</td><td>0.01</td></tr><tr><td style=\"text-align: left\">Residual Std. Error</td><td>0.471(df = 160.0)</td><td>0.471(df = 160.0)</td></tr><tr><td style=\"text-align: left\">F Statistic</td><td>1.568<sup></sup>(df = 3.0; 160.0)</td><td>[[ 1.466]]<sup></sup>(df = 3.0; 160.0)</td></tr><tr><td colspan=\"3\" style=\"border-bottom: 1px solid black\"></td></tr><tr><td style=\"text-align: left\">Note:</td><td colspan=\"2\" style=\"text-align: right\"><em>p&lt;0.1</em>; <b>p&lt;0.05</b>; p&lt;0.01</td></tr></table>"
      ],
      "text/plain": [
       "<IPython.core.display.HTML object>"
      ]
     },
     "execution_count": 27,
     "metadata": {},
     "output_type": "execute_result"
    }
   ],
   "source": [
    "sg = Stargazer([mod3, robust_mod3]).render_html()\n",
    "HTML(sg)"
   ]
  },
  {
   "cell_type": "markdown",
   "metadata": {},
   "source": [
    "As you can see in this set, there is very little change in the estimates of the SEs; because the data is relatively well behaved across the parameter set. "
   ]
  },
  {
   "cell_type": "code",
   "execution_count": null,
   "metadata": {},
   "outputs": [],
   "source": []
  }
 ],
 "metadata": {
  "kernelspec": {
   "display_name": "Python 3",
   "language": "python",
   "name": "python3"
  },
  "language_info": {
   "codemirror_mode": {
    "name": "ipython",
    "version": 2
   },
   "file_extension": ".py",
   "mimetype": "text/x-python",
   "name": "python",
   "nbconvert_exporter": "python",
   "pygments_lexer": "ipython2",
   "version": "2.7.15"
  }
 },
 "nbformat": 4,
 "nbformat_minor": 2
}
