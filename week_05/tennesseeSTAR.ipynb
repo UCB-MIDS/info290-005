{
 "cells": [
  {
   "cell_type": "markdown",
   "metadata": {},
   "source": [
    "# The Tenessee STAR Experiment "
   ]
  },
  {
   "cell_type": "code",
   "execution_count": 34,
   "metadata": {},
   "outputs": [],
   "source": [
    "import pandas as pd \n",
    "import numpy as np \n",
    "import matplotlib.pyplot as plt \n",
    "import statsmodels\n",
    "import statsmodels.formula.api as smf\n",
    "\n",
    "from sklearn.preprocessing import minmax_scale"
   ]
  },
  {
   "cell_type": "markdown",
   "metadata": {},
   "source": [
    "The Tennessee STAR experiment is a shining example of a well run, well executed randomized controlled experiment. Here is code, and data that reproduces the tables that are published in *Mostly Harmless Econometrics* written by Angrist and Pischke. These tables are, themselves, reproductions of tables published in Kruger (1999). \n"
   ]
  },
  {
   "cell_type": "markdown",
   "metadata": {},
   "source": [
    "# Load Data "
   ]
  },
  {
   "cell_type": "code",
   "execution_count": 42,
   "metadata": {},
   "outputs": [],
   "source": [
    "# d_raw = pd.read_csv('./star_students.csv')\n",
    "# d_raw.head()\n",
    "\n",
    "# rather than clean variables for this demo, \n",
    "# we're going to take in a cleaned set of data\n",
    "\n",
    "d = pd.read_csv('star_students_clean.csv')\n",
    "d.dropna(inplace=True)"
   ]
  },
  {
   "cell_type": "markdown",
   "metadata": {},
   "source": [
    "## Data cleaning \n",
    "We begin with some basic cleaning of the data set. We could have done this before sharing the dataset with you, but thought instead that this might be instructive for you to work through.\n",
    "\n",
    "What we have is a worse case scenario where one receives a package of data with little information about the data, how its values are stored, etc. So, we will define these things for ourselves. In fact, there are for (or more) tests in the data, and Angrist and Pischke report that the `percentile` variable they use is built from a student's performance on three of these tests. Specifically which three is not detailed in the book. As a result, our answers deviate slightly from those reported in *Mostly Harmless Econometrics* but they're close. \n"
   ]
  },
  {
   "cell_type": "markdown",
   "metadata": {},
   "source": [
    "## Recode and clean variables \n",
    "\n",
    "Create the following fields in a way that make sense: \n",
    "\n",
    "- A restructured race indicator that encodes a binary indicator for whether the individual is \"White\" or \"Asian\" or another racial/ethnic category\n",
    "- The student's age in 1985\n",
    "- Whether the receive a free lunch (a rescaling of the variable `gkfreelunch` \n",
    "- The class size they're in (`gkclasssize`)\n",
    "- Their reading score (`gktreadss`)\n",
    "- Their math score (`gktmathss`) \n",
    "- Their listening score (`gktlistss`)\n",
    "- Their school id (`gkschid`) \n",
    "- And, finally, their *treatment* id (`gkclasstype`)"
   ]
  },
  {
   "cell_type": "code",
   "execution_count": 1,
   "metadata": {},
   "outputs": [],
   "source": []
  },
  {
   "cell_type": "markdown",
   "metadata": {},
   "source": [
    "## Rename test score variables \n",
    "\n",
    "I wasn't sure what the test score variables were, so I had to look them up. I'll rename them for us, so that we can use quickly. "
   ]
  },
  {
   "cell_type": "code",
   "execution_count": 4,
   "metadata": {},
   "outputs": [],
   "source": [
    "# d_raw.rename(columns={'gktmathss': 'math_score', 'gktlistss': 'listening_score', 'gktreadss': 'read_score'}, inplace=True)"
   ]
  },
  {
   "cell_type": "markdown",
   "metadata": {},
   "source": [
    "## Create Outomce Variables\n",
    "With the data mostly cleaned up and renamed, you can now take create the outcome variable. Create this variable in the following way: \n",
    "\n",
    "1. We are summing student's performance on each of the reading, math, and listening tests to create a single, composite score. \n",
    "2. With this score, we are calculating the empirical cumulative distribution function (CDF) for each individual student compared to the entire set of students. An empirical CDF is really just a student's percentile. \n",
    "3. We should note too, we aren't education experts, and aren't familiar with the Stanford Tests. (*Go Berkeley*). It might be more approprite to find a student's empirical CDF within each test and then, average these. Or it might not. \n"
   ]
  },
  {
   "cell_type": "code",
   "execution_count": null,
   "metadata": {},
   "outputs": [],
   "source": [
    "# create linearly scaled score "
   ]
  },
  {
   "cell_type": "code",
   "execution_count": null,
   "metadata": {},
   "outputs": [],
   "source": [
    "# `minmax_scale` that score to recover a percentile"
   ]
  },
  {
   "cell_type": "markdown",
   "metadata": {},
   "source": [
    "## Produce Summary Statistics \n",
    "- What are the average rates of free lunch, \"White/Asian\", age, class size? \n",
    "- Should these averages be the same in the different treatment groups? \n",
    "- Are they? \n",
    "\n",
    "Conduct a covariate balance test (probably using `statsmodels`) that lets you assess whether the treatment and control was *actually* assigned at random. \n",
    "\n",
    "- What would be the consequence of failing to randomize? Would this be a problem? Why or why not? \n",
    "- Does it look as though the randomization \"worked\"? How can you know? \n",
    "\n"
   ]
  },
  {
   "cell_type": "code",
   "execution_count": null,
   "metadata": {},
   "outputs": [],
   "source": []
  },
  {
   "cell_type": "markdown",
   "metadata": {},
   "source": [
    "# Estimate Effects\n",
    "\n",
    "## 1. Difference in Means \n",
    "As we have made a point of saying in the course, there are number of mechanical ways to estimate an average treatment effect. One simple way is using the difference in means between the two groups. \n",
    "\n",
    "Then use *Field Experiments* equation 3.6 to estimate the standard error of this difference in means between the treatment groups. Does it seem that there is a treatment effect? \n"
   ]
  },
  {
   "cell_type": "code",
   "execution_count": 5,
   "metadata": {},
   "outputs": [
    {
     "data": {
      "text/html": [
       "<div>\n",
       "<style scoped>\n",
       "    .dataframe tbody tr th:only-of-type {\n",
       "        vertical-align: middle;\n",
       "    }\n",
       "\n",
       "    .dataframe tbody tr th {\n",
       "        vertical-align: top;\n",
       "    }\n",
       "\n",
       "    .dataframe thead th {\n",
       "        text-align: right;\n",
       "    }\n",
       "</style>\n",
       "<table border=\"1\" class=\"dataframe\">\n",
       "  <thead>\n",
       "    <tr style=\"text-align: right;\">\n",
       "      <th></th>\n",
       "      <th>race_wa</th>\n",
       "      <th>age_1985</th>\n",
       "      <th>gender</th>\n",
       "      <th>free_lunch</th>\n",
       "      <th>class_size</th>\n",
       "      <th>read_score</th>\n",
       "      <th>math_score</th>\n",
       "      <th>list_score</th>\n",
       "      <th>school_id</th>\n",
       "      <th>treatment</th>\n",
       "      <th>test_score</th>\n",
       "      <th>percentile</th>\n",
       "    </tr>\n",
       "  </thead>\n",
       "  <tbody>\n",
       "    <tr>\n",
       "      <td>0</td>\n",
       "      <td>False</td>\n",
       "      <td>5</td>\n",
       "      <td>MALE</td>\n",
       "      <td>NON-FREE LUNCH</td>\n",
       "      <td>22</td>\n",
       "      <td>427</td>\n",
       "      <td>478</td>\n",
       "      <td>509</td>\n",
       "      <td>169280</td>\n",
       "      <td>REGULAR + AIDE CLASS</td>\n",
       "      <td>1414</td>\n",
       "      <td>0.339348</td>\n",
       "    </tr>\n",
       "    <tr>\n",
       "      <td>1</td>\n",
       "      <td>True</td>\n",
       "      <td>5</td>\n",
       "      <td>FEMALE</td>\n",
       "      <td>NON-FREE LUNCH</td>\n",
       "      <td>17</td>\n",
       "      <td>450</td>\n",
       "      <td>494</td>\n",
       "      <td>549</td>\n",
       "      <td>218562</td>\n",
       "      <td>REGULAR + AIDE CLASS</td>\n",
       "      <td>1493</td>\n",
       "      <td>0.665732</td>\n",
       "    </tr>\n",
       "    <tr>\n",
       "      <td>2</td>\n",
       "      <td>False</td>\n",
       "      <td>6</td>\n",
       "      <td>FEMALE</td>\n",
       "      <td>FREE LUNCH</td>\n",
       "      <td>17</td>\n",
       "      <td>483</td>\n",
       "      <td>513</td>\n",
       "      <td>554</td>\n",
       "      <td>205492</td>\n",
       "      <td>SMALL CLASS</td>\n",
       "      <td>1550</td>\n",
       "      <td>0.826910</td>\n",
       "    </tr>\n",
       "    <tr>\n",
       "      <td>3</td>\n",
       "      <td>True</td>\n",
       "      <td>6</td>\n",
       "      <td>MALE</td>\n",
       "      <td>NON-FREE LUNCH</td>\n",
       "      <td>24</td>\n",
       "      <td>456</td>\n",
       "      <td>513</td>\n",
       "      <td>520</td>\n",
       "      <td>257899</td>\n",
       "      <td>REGULAR CLASS</td>\n",
       "      <td>1489</td>\n",
       "      <td>0.650491</td>\n",
       "    </tr>\n",
       "    <tr>\n",
       "      <td>4</td>\n",
       "      <td>True</td>\n",
       "      <td>6</td>\n",
       "      <td>MALE</td>\n",
       "      <td>NON-FREE LUNCH</td>\n",
       "      <td>24</td>\n",
       "      <td>411</td>\n",
       "      <td>468</td>\n",
       "      <td>571</td>\n",
       "      <td>161176</td>\n",
       "      <td>REGULAR + AIDE CLASS</td>\n",
       "      <td>1450</td>\n",
       "      <td>0.491766</td>\n",
       "    </tr>\n",
       "  </tbody>\n",
       "</table>\n",
       "</div>"
      ],
      "text/plain": [
       "   race_wa  age_1985  gender      free_lunch  class_size  read_score  \\\n",
       "0    False         5    MALE  NON-FREE LUNCH          22         427   \n",
       "1     True         5  FEMALE  NON-FREE LUNCH          17         450   \n",
       "2    False         6  FEMALE      FREE LUNCH          17         483   \n",
       "3     True         6    MALE  NON-FREE LUNCH          24         456   \n",
       "4     True         6    MALE  NON-FREE LUNCH          24         411   \n",
       "\n",
       "   math_score  list_score  school_id             treatment  test_score  \\\n",
       "0         478         509     169280  REGULAR + AIDE CLASS        1414   \n",
       "1         494         549     218562  REGULAR + AIDE CLASS        1493   \n",
       "2         513         554     205492           SMALL CLASS        1550   \n",
       "3         513         520     257899         REGULAR CLASS        1489   \n",
       "4         468         571     161176  REGULAR + AIDE CLASS        1450   \n",
       "\n",
       "   percentile  \n",
       "0    0.339348  \n",
       "1    0.665732  \n",
       "2    0.826910  \n",
       "3    0.650491  \n",
       "4    0.491766  "
      ]
     },
     "execution_count": 5,
     "metadata": {},
     "output_type": "execute_result"
    }
   ],
   "source": []
  },
  {
   "cell_type": "markdown",
   "metadata": {},
   "source": [
    "## 2. Regression Estimates \n",
    "\n",
    "You can also use a linear model which will provide us with identical p-values, and can still be interpreted as a causal estimand. Estimate this difference via OLS regression, using `statsmodels`, and draw a conclusion about the magnitude of the treatment effect, and whether this treatment effect was likely, or unlikely to occur by chance. \n",
    "\n",
    "Does the conclusion that you reach differ any/much from the conclusion that you reached from the difference in means estimates? "
   ]
  },
  {
   "cell_type": "markdown",
   "metadata": {},
   "source": [
    "## Correct the Standard Errors \n",
    "There are a lot of reasons to suspect that students' performances might not satisfy the assumptions that go in to building normal, Gaussian distributions of the residuals. \n",
    "\n",
    "+ One that immediatly comes to mind is that perhaps students who are assigned to treatment have greater variance in their outcomes than students who are assigned to control. This could happen if there are some students who really excel in the small classroom. \n",
    "+ Another, that we aren't going to correct for in this document, but that we **certainly** should, is that the outcomes within a school might also be correlated in a way that our model is not accounting for. Including a fixed effect for each school effectively *de-means* the school effects so that we have a more precise estimate of the treatment effect within each school, but it doesn't address any of the *within* school correlation that might exist. \n",
    "+ As we talk about in the course, if we have relatively high Inter-Cluster Correlation, then our standard errors are inappropriately enthuiastic about rejecting the null hypothesis (they're too small). This is because our standard errors are behaving as though we have `N` observations, when in fact functionally we might have (many) fewer useful observations. \n",
    "\n",
    "### Correct standard errors to be robust SEs "
   ]
  },
  {
   "cell_type": "markdown",
   "metadata": {},
   "source": [
    "### Clustered SEs \n",
    "The last thing here is acknowledging that we've very likely got correlated potential outcomes within schools. Including a fixed effect term for each school removes the possiblity of inducing bias in our estimate. However, since we can't plausibly assume that the variance is the same within each of the individual school clusters, then failing to appropriately account for the empirical variance might lead us to estimate inappropriately small standard errors. Why would this be a problem? Well, if we want to falsely reject the null in only 5% of cases ($\\alpha = 0.95$), then if we make the wrong assumptions we might falsely reject the null hypothesis at higher (or even lower rates). Typically, we aren't kept up at night if we're a little conservative in our estimates, but beign too *gung-ho* is a problem. \n",
    "\n",
    "As noted in both *Field Experiments* and *Mostly Harmless Econometrics* the appropriate way to assess this is to calculate the estimated variance within each of the clusters and appropritely combine these estimtates. Conceptually this is pretty simple, but getting the maths just right can be a little particular. \n",
    "\n"
   ]
  },
  {
   "cell_type": "code",
   "execution_count": 51,
   "metadata": {},
   "outputs": [],
   "source": [
    "cluster_mod = smf.ols('percentile ~ treatment', data = d).fit(cov_type='cluster', cov_kwds={'groups': d['school_id']})"
   ]
  },
  {
   "cell_type": "code",
   "execution_count": 52,
   "metadata": {},
   "outputs": [
    {
     "data": {
      "text/html": [
       "<table class=\"simpletable\">\n",
       "<caption>OLS Regression Results</caption>\n",
       "<tr>\n",
       "  <th>Dep. Variable:</th>       <td>percentile</td>    <th>  R-squared:         </th> <td>   0.006</td>\n",
       "</tr>\n",
       "<tr>\n",
       "  <th>Model:</th>                   <td>OLS</td>       <th>  Adj. R-squared:    </th> <td>   0.006</td>\n",
       "</tr>\n",
       "<tr>\n",
       "  <th>Method:</th>             <td>Least Squares</td>  <th>  F-statistic:       </th> <td>   5.822</td>\n",
       "</tr>\n",
       "<tr>\n",
       "  <th>Date:</th>             <td>Tue, 22 Oct 2019</td> <th>  Prob (F-statistic):</th>  <td>0.00440</td>\n",
       "</tr>\n",
       "<tr>\n",
       "  <th>Time:</th>                 <td>10:50:52</td>     <th>  Log-Likelihood:    </th> <td> -986.46</td>\n",
       "</tr>\n",
       "<tr>\n",
       "  <th>No. Observations:</th>      <td>  5708</td>      <th>  AIC:               </th> <td>   1979.</td>\n",
       "</tr>\n",
       "<tr>\n",
       "  <th>Df Residuals:</th>          <td>  5705</td>      <th>  BIC:               </th> <td>   1999.</td>\n",
       "</tr>\n",
       "<tr>\n",
       "  <th>Df Model:</th>              <td>     2</td>      <th>                     </th>     <td> </td>   \n",
       "</tr>\n",
       "<tr>\n",
       "  <th>Covariance Type:</th>       <td>cluster</td>     <th>                     </th>     <td> </td>   \n",
       "</tr>\n",
       "</table>\n",
       "<table class=\"simpletable\">\n",
       "<tr>\n",
       "               <td></td>                 <th>coef</th>     <th>std err</th>      <th>z</th>      <th>P>|z|</th>  <th>[0.025</th>    <th>0.975]</th>  \n",
       "</tr>\n",
       "<tr>\n",
       "  <th>Intercept</th>                  <td>    0.4820</td> <td>    0.019</td> <td>   24.819</td> <td> 0.000</td> <td>    0.444</td> <td>    0.520</td>\n",
       "</tr>\n",
       "<tr>\n",
       "  <th>treatment[T.REGULAR CLASS]</th> <td>    0.0094</td> <td>    0.014</td> <td>    0.669</td> <td> 0.503</td> <td>   -0.018</td> <td>    0.037</td>\n",
       "</tr>\n",
       "<tr>\n",
       "  <th>treatment[T.SMALL CLASS]</th>   <td>    0.0542</td> <td>    0.017</td> <td>    3.279</td> <td> 0.001</td> <td>    0.022</td> <td>    0.087</td>\n",
       "</tr>\n",
       "</table>\n",
       "<table class=\"simpletable\">\n",
       "<tr>\n",
       "  <th>Omnibus:</th>       <td>4339.716</td> <th>  Durbin-Watson:     </th> <td>   1.775</td>\n",
       "</tr>\n",
       "<tr>\n",
       "  <th>Prob(Omnibus):</th>  <td> 0.000</td>  <th>  Jarque-Bera (JB):  </th> <td> 334.930</td>\n",
       "</tr>\n",
       "<tr>\n",
       "  <th>Skew:</th>           <td>-0.013</td>  <th>  Prob(JB):          </th> <td>1.87e-73</td>\n",
       "</tr>\n",
       "<tr>\n",
       "  <th>Kurtosis:</th>       <td> 1.814</td>  <th>  Cond. No.          </th> <td>    3.65</td>\n",
       "</tr>\n",
       "</table><br/><br/>Warnings:<br/>[1] Standard Errors are robust tocluster correlation (cluster)"
      ],
      "text/plain": [
       "<class 'statsmodels.iolib.summary.Summary'>\n",
       "\"\"\"\n",
       "                            OLS Regression Results                            \n",
       "==============================================================================\n",
       "Dep. Variable:             percentile   R-squared:                       0.006\n",
       "Model:                            OLS   Adj. R-squared:                  0.006\n",
       "Method:                 Least Squares   F-statistic:                     5.822\n",
       "Date:                Tue, 22 Oct 2019   Prob (F-statistic):            0.00440\n",
       "Time:                        10:50:52   Log-Likelihood:                -986.46\n",
       "No. Observations:                5708   AIC:                             1979.\n",
       "Df Residuals:                    5705   BIC:                             1999.\n",
       "Df Model:                           2                                         \n",
       "Covariance Type:              cluster                                         \n",
       "==============================================================================================\n",
       "                                 coef    std err          z      P>|z|      [0.025      0.975]\n",
       "----------------------------------------------------------------------------------------------\n",
       "Intercept                      0.4820      0.019     24.819      0.000       0.444       0.520\n",
       "treatment[T.REGULAR CLASS]     0.0094      0.014      0.669      0.503      -0.018       0.037\n",
       "treatment[T.SMALL CLASS]       0.0542      0.017      3.279      0.001       0.022       0.087\n",
       "==============================================================================\n",
       "Omnibus:                     4339.716   Durbin-Watson:                   1.775\n",
       "Prob(Omnibus):                  0.000   Jarque-Bera (JB):              334.930\n",
       "Skew:                          -0.013   Prob(JB):                     1.87e-73\n",
       "Kurtosis:                       1.814   Cond. No.                         3.65\n",
       "==============================================================================\n",
       "\n",
       "Warnings:\n",
       "[1] Standard Errors are robust tocluster correlation (cluster)\n",
       "\"\"\""
      ]
     },
     "execution_count": 52,
     "metadata": {},
     "output_type": "execute_result"
    }
   ],
   "source": [
    "cluster_mod.summary()"
   ]
  },
  {
   "cell_type": "code",
   "execution_count": null,
   "metadata": {},
   "outputs": [],
   "source": []
  }
 ],
 "metadata": {
  "kernelspec": {
   "display_name": "Python 3",
   "language": "python",
   "name": "python3"
  },
  "language_info": {
   "codemirror_mode": {
    "name": "ipython",
    "version": 3
   },
   "file_extension": ".py",
   "mimetype": "text/x-python",
   "name": "python",
   "nbconvert_exporter": "python",
   "pygments_lexer": "ipython3",
   "version": "3.7.3"
  }
 },
 "nbformat": 4,
 "nbformat_minor": 2
}
