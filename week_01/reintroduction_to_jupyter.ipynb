{
 "cells": [
  {
   "cell_type": "markdown",
   "metadata": {},
   "source": [
    "# Reintroduction to Jupyter \n",
    "\n",
    "One of the 'off-label' goals of this course is making you *very* comfortable thinking about data in a structured way, and manipulating data in a structured way.\n",
    "\n",
    "With this course, virtually all of our data *could*, in principle, be wrangled in a calculator. No big compute necessary here, because we're structuring the comparisons we want to observe *by design* rather than by brute force computation. "
   ]
  },
  {
   "cell_type": "markdown",
   "metadata": {},
   "source": []
  }
 ],
 "metadata": {
  "kernelspec": {
   "display_name": "Python 3",
   "language": "python",
   "name": "python3"
  },
  "language_info": {
   "codemirror_mode": {
    "name": "ipython",
    "version": 3
   },
   "file_extension": ".py",
   "mimetype": "text/x-python",
   "name": "python",
   "nbconvert_exporter": "python",
   "pygments_lexer": "ipython3",
   "version": "3.7.3"
  }
 },
 "nbformat": 4,
 "nbformat_minor": 2
}
