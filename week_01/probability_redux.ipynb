{
 "cells": [
  {
   "cell_type": "markdown",
   "metadata": {},
   "source": [
    "# Some Probability Practice \n",
    "\n"
   ]
  },
  {
   "cell_type": "code",
   "execution_count": 1,
   "metadata": {},
   "outputs": [],
   "source": [
    "import numpy as np\n",
    "from scipy import special"
   ]
  },
  {
   "cell_type": "markdown",
   "metadata": {},
   "source": [
    "# Problem 1 \n",
    "\n",
    "Suppose you roll a die rolled repeatedly. Remember that in this class, dice are assumed fair unless the description says otherwise.\n",
    "\n",
    "For $k = 1, 2, 3, \\ldots, 6 $ let $D_k$ be the event that the first $k$ rolls all show different faces. \n",
    "\n",
    "## (a)  \n",
    "\n",
    "For $k = 1, 2, 3, \\ldots, 6 $ let $D_k$ be the event that the first $k$ rolls all show different faces. Note that $P(D_1) = 0$ because you can't have different faces with just one roll.\n",
    "\n",
    "Without doing any calculations, draw a Venn diagram that shows the events $D_4$ and $D_5$. Make it clear which is which, and justify your answer. Then enter one of the symbols $\\le$, $=$, and $\\ge$ in the blank below.\n",
    "\n",
    "$P(D_5) ~ \\underline{~~~~~~~~~~} P(D_4)$\n",
    "\n",
    "## (b) \n",
    "\n",
    "For $k = 2, 3, \\ldots, 7$ let $F_k$ be the event that the $k$th roll is the first time you see a face that has already appeared. Write the event $F_k$ in terms of the events $D_1, D_2, \\ldots, D_6$.\n",
    "\n",
    "## (c) \n",
    "\n",
    "In the Venn diagram that you drew in Part **a**, there's a region that corresponds to one of the events $F_i$ for some $i$.  Say which $i$ it is, and shade that event $F_i$ in your diagram. There's no need to draw a new diagram. Just shade the appropriate region in the diagram you already drew.\n",
    "\n",
    "## (d) \n",
    "\n",
    "Thus far, you haven't used any fractions – just logic. Now for some calculation. In the code cell below, define a function `prob_d` that takes $k$ as its argument and returns $P(D_k)$."
   ]
  },
  {
   "cell_type": "code",
   "execution_count": 2,
   "metadata": {},
   "outputs": [],
   "source": [
    "def prob_d(k): \n",
    "    '''\n",
    "    Define the docstring to tell me what you're doing.\n",
    "    '''\n",
    "    rolls = np.arange(k)\n",
    "    \n",
    "    return(something) "
   ]
  },
  {
   "cell_type": "markdown",
   "metadata": {},
   "source": [
    "Does this function produce what you anticipated it would produce from your Venn diagram for $P(D_4)$ and $P(D_5)$? "
   ]
  },
  {
   "cell_type": "markdown",
   "metadata": {},
   "source": [
    "# 2. Heads in Coin Tossing\n",
    " > This is one of the fundamental models of probability theory. Note that unless otherwise specified, coins in this course are assumed to be fair.\n",
    "\n",
    "Suppose you toss a coin $n$ times and note down the sequence of heads (H) and tails (T). \n",
    "\n",
    "Fix an integer $k$ such that $0 \\le k \\le n$.\n",
    "\n",
    "## (a) \n",
    "\n",
    "In total, how many possible sequences are there? How many sequences have $k$ heads? \n",
    "\n",
    "## (b) \n",
    "\n",
    "What is the chance that you get $k$ heads in your $n$ tosses? Why?\n",
    "\n",
    "## (c)  \n",
    "\n",
    "Does your answer in **b** make sense in the cases $k=0$ and $k=n$? Explain.\n",
    "\n",
    "## (d) \n",
    "\n",
    "Use the `scipy` is a library for scientific computing. In particular, the `special` module of `SciPy` computes combinatorial terms and has been imported in this notebook. \n",
    "\n",
    "To calculate $\\binom{n}{k}$, use `special.comb(n, k)`."
   ]
  },
  {
   "cell_type": "code",
   "execution_count": null,
   "metadata": {},
   "outputs": [],
   "source": []
  },
  {
   "cell_type": "markdown",
   "metadata": {},
   "source": [
    "Define a function `chance_of_heads` that takes `n` and `k` as its arguments and returns the chance of `k` heads in `n` tosses of a fair coin. Do not use any built-in `SciPy` probability functions; just use your answer to **b**.\n",
    "\n",
    "We have started the code for you. Try to ignore the fact that we have converted the integer `n` to a `float`. It won't affect `special.comb` and it will help ensure that the calculation is accurate when `n` and `k` are large."
   ]
  },
  {
   "cell_type": "code",
   "execution_count": 3,
   "metadata": {},
   "outputs": [],
   "source": [
    "def chance_of_heads(n, k):\n",
    "    '''\n",
    "    Returns the chance of k heads in n tosses of a fair coin\n",
    "    '''\n",
    "    n = float(n)\n",
    "    return ..."
   ]
  },
  {
   "cell_type": "markdown",
   "metadata": {},
   "source": [
    "To check whether your function is working correctly, list all possible outcomes of two tosses of a coin and hence calculate P(0 heads), P(1 head), and P(2 heads)."
   ]
  },
  {
   "cell_type": "code",
   "execution_count": 4,
   "metadata": {},
   "outputs": [
    {
     "data": {
      "text/plain": [
       "Ellipsis"
      ]
     },
     "execution_count": 4,
     "metadata": {},
     "output_type": "execute_result"
    }
   ],
   "source": [
    "chance_of_heads(2, 0)\n",
    "chance_of_heads(2, 1)\n",
    "chance_of_heads(2, 2)"
   ]
  }
 ],
 "metadata": {
  "kernelspec": {
   "display_name": "Python 3",
   "language": "python",
   "name": "python3"
  },
  "language_info": {
   "codemirror_mode": {
    "name": "ipython",
    "version": 3
   },
   "file_extension": ".py",
   "mimetype": "text/x-python",
   "name": "python",
   "nbconvert_exporter": "python",
   "pygments_lexer": "ipython3",
   "version": "3.6.4"
  }
 },
 "nbformat": 4,
 "nbformat_minor": 2
}
