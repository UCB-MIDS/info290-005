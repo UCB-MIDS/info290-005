{
 "cells": [
  {
   "cell_type": "markdown",
   "metadata": {},
   "source": [
    "# A Reintroduction to python\n",
    "\n",
    "If you've been off for the summer (lucky you, a month in Bali sounds lovely) or you haven't worked in python before or in a while, this is a chance to refamiliarize youself with the language. \n",
    "\n",
    "There are a limitless set of tutorials onnline. My goals isn't to replace or even do as well as those; rather the goal is to have a limited set of work that is right in line with today's lecture. \n",
    "\n",
    "## Observations and Vectors \n",
    "\n",
    "When conceptualizing and writing out research, it is important to keep in mind what or whom your fundimental unit of observation. Suppose that you are doing research on climate change: \n",
    "\n",
    "- Is the primal unit of observation the daily temperature measurement at a research station? \n",
    "- Is it the average across a set of research stations? \n",
    "- Is it the montly average at a single research station? \n",
    "\n",
    "Any of these, depending on the question you seek to answer, might be the the most appropriate unit of observation. \n",
    "\n",
    "At the time that you're analyzing your data you will rely on the fact that you've structured your units of observations in some meaningful way; you've stacked the measurments into a *variable*, perhaps called `daily_temp`. This variable is stored as a vector, refered to as a **list**. For the purposes of analysis, thinking at the *vector* level is probably the most useful mode of thought. "
   ]
  },
  {
   "cell_type": "markdown",
   "metadata": {},
   "source": [
    "In python, lists are created within square brackets `[]`. Lists are ordered, collection of values. "
   ]
  },
  {
   "cell_type": "code",
   "execution_count": null,
   "metadata": {},
   "outputs": [],
   "source": [
    "[1,2,3]"
   ]
  },
  {
   "cell_type": "markdown",
   "metadata": {},
   "source": [
    "Because data flying past you is useless, you can store these lists in objects, known as variables. Assigment into a variable is undertaken using an equals, `=` assignment. Convention places the named variable on the left and the values that are to be assigned to that variable on the right. "
   ]
  },
  {
   "cell_type": "code",
   "execution_count": null,
   "metadata": {},
   "outputs": [],
   "source": [
    "x = [1, 2, 3, 4, 6]"
   ]
  },
  {
   "cell_type": "code",
   "execution_count": null,
   "metadata": {},
   "outputs": [],
   "source": [
    "x"
   ]
  },
  {
   "cell_type": "code",
   "execution_count": null,
   "metadata": {},
   "outputs": [],
   "source": [
    "type(x)"
   ]
  },
  {
   "cell_type": "markdown",
   "metadata": {},
   "source": [
    "If a vector is one-dimensional, then we can either:\n",
    "\n",
    "- Reference a location in that vector:\n",
    "  - `x[2]` Will print the value in the third position\n",
    "  - `x[0]` Will print the value in the first position\n",
    "  - `x[:2]`  Will print the values in the first, second, and third positions\n",
    "  - `x[-1]`  Will print the first value, starting from the end of the list. Note that this isn't zero indexed. "
   ]
  },
  {
   "cell_type": "markdown",
   "metadata": {},
   "source": [
    "For this class, we will spend most of our time working with dataframes, collections of different types of lists in a single object. [pandas](https://pandas.pydata.org) is the defacto choice for manipulating dataframes, though I'll point out the very good work that is covered in [dask](https://dask.org) and developing work with [python datatable](https://datatable.readthedocs.io/en/latest/index.html) (an analogous task to R's data.table). "
   ]
  },
  {
   "cell_type": "markdown",
   "metadata": {},
   "source": [
    "# Imports "
   ]
  },
  {
   "cell_type": "code",
   "execution_count": null,
   "metadata": {},
   "outputs": [],
   "source": [
    "import pandas as pd \n",
    "import numpy as np"
   ]
  },
  {
   "cell_type": "markdown",
   "metadata": {},
   "source": [
    "If vectors are single dimensional objects that can be indexed, then a `data.frame` is just a collection of vectors that can also be indexed. Importantly, once we have more than one vector collected, we've got more than a single dimension that we have to index. This is *ok*, because we can just index in both of these directions. \n",
    "\n",
    "Note as well that one of the features that we appreciate about these data.frames is that they can collect vectors that are of different types in a way that a matrix cannot. "
   ]
  },
  {
   "cell_type": "code",
   "execution_count": null,
   "metadata": {},
   "outputs": [],
   "source": [
    "d = pd.DataFrame({\n",
    "      'value': (np.arange(0,20))**2, \n",
    "      'group': ['a', 'b', 'c', 'd', 'e'] * 4},\n",
    "    index = np.arange(1,21)\n",
    ")"
   ]
  },
  {
   "cell_type": "code",
   "execution_count": null,
   "metadata": {},
   "outputs": [],
   "source": [
    "d.head()"
   ]
  },
  {
   "cell_type": "markdown",
   "metadata": {},
   "source": [
    "We can reference any of the vectors that are stored in the data frame by `indexing` into that object. Column indexing can be accomplished either using dot-notation, or by naming in the *column* space. "
   ]
  },
  {
   "cell_type": "code",
   "execution_count": null,
   "metadata": {},
   "outputs": [],
   "source": [
    "d.group.head()"
   ]
  },
  {
   "cell_type": "code",
   "execution_count": null,
   "metadata": {},
   "outputs": [],
   "source": [
    "d['group'].head()"
   ]
  },
  {
   "cell_type": "markdown",
   "metadata": {},
   "source": [
    "Note that by calling the stored data.frame object we're scoping from the global namespace into the namespace for that object, and then calling for the named list (or Series). \n",
    "\n",
    "Rather than just showing the `head` of the result of this query, we *could* also pull this based on location. "
   ]
  },
  {
   "cell_type": "code",
   "execution_count": null,
   "metadata": {},
   "outputs": [],
   "source": [
    "d[0:5].value"
   ]
  },
  {
   "cell_type": "code",
   "execution_count": null,
   "metadata": {},
   "outputs": [],
   "source": [
    "d.loc[0:5, 'value']"
   ]
  },
  {
   "cell_type": "markdown",
   "metadata": {},
   "source": [
    "Though this brings on considerable risk: If the data structure should change in the future, you'll pull from a position that might have different information than you think it does. \n",
    "\n",
    "(Note that we've used the `.loc` location based indexer.) \n",
    "\n",
    "Here's an example of this risk: Suppoese you want to pull the values that are less than 20 from the DataFrame `d`. Presently, the DataFrame is sorted so that a `.loc` indexer that pulls the first five value will catch the result you seek. But, if the frame had new data flow in (or flow out) it might not meet your goal. \n",
    "\n",
    "For example, suppose the second observation was remeasured and came out to be 21. "
   ]
  },
  {
   "cell_type": "code",
   "execution_count": null,
   "metadata": {},
   "outputs": [],
   "source": [
    "d.loc[2, 'value'] = 21"
   ]
  },
  {
   "cell_type": "markdown",
   "metadata": {},
   "source": [
    "Now, your `.loc` based index isn't going to accomplish what you'd like it to. "
   ]
  },
  {
   "cell_type": "code",
   "execution_count": null,
   "metadata": {},
   "outputs": [],
   "source": [
    "d.loc[0:5, 'value']"
   ]
  },
  {
   "cell_type": "markdown",
   "metadata": {},
   "source": [
    "Instead, safer is to pass the test you'd like to accomplish, and let that test index the rows for you. "
   ]
  },
  {
   "cell_type": "code",
   "execution_count": null,
   "metadata": {},
   "outputs": [],
   "source": [
    "d.loc[d.value <= 20, 'value']"
   ]
  },
  {
   "cell_type": "markdown",
   "metadata": {},
   "source": [
    "# Some light practice\n",
    "\n",
    "With the following data: "
   ]
  },
  {
   "cell_type": "code",
   "execution_count": null,
   "metadata": {},
   "outputs": [],
   "source": [
    "d = pd.DataFrame({\n",
    "    'name': ['alex', 'becky', 'carl', 'doris', 'eve', 'frank', 'gertrude', \n",
    "             'harry', 'ingrid', 'jerry', 'kerri', 'lou', 'mary', 'neal',\n",
    "             'olivia', 'patrick', 'qing', 'roy', 'samantha', 'teddy', \n",
    "             'usha', 'victor', 'wendy', 'xander', 'yvette', 'zeke'], \n",
    "    'age': np.random.choice([23,24,25,26,27,29,29,30], 26), \n",
    "    'focus': np.random.choice(['data science', 'product management', 'phd'], 26)\n",
    "})"
   ]
  },
  {
   "cell_type": "markdown",
   "metadata": {},
   "source": [
    "Do the following: \n",
    "\n",
    "- pull the first ten rows, and all the columns. "
   ]
  },
  {
   "cell_type": "code",
   "execution_count": null,
   "metadata": {},
   "outputs": [],
   "source": []
  },
  {
   "cell_type": "markdown",
   "metadata": {},
   "source": [
    "- pull the last ten rows, and only the name and focus columns. "
   ]
  },
  {
   "cell_type": "code",
   "execution_count": null,
   "metadata": {},
   "outputs": [],
   "source": []
  },
  {
   "cell_type": "markdown",
   "metadata": {},
   "source": [
    "- pull all the columns where people are an odd age. "
   ]
  },
  {
   "cell_type": "code",
   "execution_count": null,
   "metadata": {},
   "outputs": [],
   "source": []
  },
  {
   "cell_type": "markdown",
   "metadata": {},
   "source": [
    "- pull all the columns where people are an odd age, and whose names start with a vowel"
   ]
  },
  {
   "cell_type": "code",
   "execution_count": null,
   "metadata": {},
   "outputs": [],
   "source": []
  },
  {
   "cell_type": "markdown",
   "metadata": {},
   "source": [
    "- pull all the columns where people are an odd age, and whose name's second letter is a vowel."
   ]
  },
  {
   "cell_type": "code",
   "execution_count": null,
   "metadata": {},
   "outputs": [],
   "source": []
  },
  {
   "cell_type": "markdown",
   "metadata": {},
   "source": [
    "# Here come the answers\n",
    "\n",
    "But, don't look at them right away. \n",
    ".\n",
    "\n",
    ".\n",
    "\n",
    ".\n",
    "\n",
    ".\n",
    "\n",
    ".\n",
    "\n",
    ".\n",
    "\n",
    ".\n",
    "\n",
    ".\n",
    "\n",
    ".\n",
    "\n",
    ".\n",
    "\n",
    ".\n",
    "\n",
    ".\n",
    "\n",
    ".\n",
    "\n",
    ".\n",
    "\n",
    ".\n",
    "\n",
    ".\n",
    "\n",
    ".\n",
    "\n",
    ".\n",
    "\n",
    ".\n",
    "\n",
    ".\n",
    "\n",
    ".\n",
    "\n"
   ]
  },
  {
   "cell_type": "markdown",
   "metadata": {},
   "source": [
    "Do the following: \n",
    "\n",
    "- pull the first ten rows, and all the columns. "
   ]
  },
  {
   "cell_type": "code",
   "execution_count": null,
   "metadata": {},
   "outputs": [],
   "source": [
    "d.loc[0:9,:]"
   ]
  },
  {
   "cell_type": "markdown",
   "metadata": {},
   "source": [
    "- pull the last ten rows, and only the name and focus columns. "
   ]
  },
  {
   "cell_type": "code",
   "execution_count": null,
   "metadata": {},
   "outputs": [],
   "source": [
    "d.loc[16:, ['name', 'focus']]"
   ]
  },
  {
   "cell_type": "markdown",
   "metadata": {},
   "source": [
    "- pull all the columns where people are an odd age. "
   ]
  },
  {
   "cell_type": "code",
   "execution_count": null,
   "metadata": {},
   "outputs": [],
   "source": [
    "d.loc[d.age % 2 == 1]"
   ]
  },
  {
   "cell_type": "markdown",
   "metadata": {},
   "source": [
    "- pull all the columns where people are an odd age, and whose names start with a vowel"
   ]
  },
  {
   "cell_type": "code",
   "execution_count": null,
   "metadata": {},
   "outputs": [],
   "source": [
    "d.loc[(d.age % 2 == 1) & (d.name.isin(['alex', 'eve', 'ingrid', 'olivia', 'usha']))]"
   ]
  },
  {
   "cell_type": "markdown",
   "metadata": {},
   "source": [
    "- pull all the columns where people are an odd age, and whose name's second letter is a vowel."
   ]
  },
  {
   "cell_type": "code",
   "execution_count": null,
   "metadata": {},
   "outputs": [],
   "source": [
    "# oh snap, you can't just hard code this. \n",
    "# as you can see, even the last solution is getting pretty complex inside that indexing call \n",
    "# for this answer, i'll split out a mask, and then bring that in. \n",
    "\n",
    "age_mask = d.age % 2 == 1\n",
    "vowel_mask = d.name.str.get(1).isin(['a', 'e', 'i', 'o', 'u'])\n",
    "\n",
    "d.loc[age_mask & vowel_mask]"
   ]
  },
  {
   "cell_type": "code",
   "execution_count": null,
   "metadata": {},
   "outputs": [],
   "source": []
  }
 ],
 "metadata": {
  "kernelspec": {
   "display_name": "Python 3",
   "language": "python",
   "name": "python3"
  },
  "language_info": {
   "codemirror_mode": {
    "name": "ipython",
    "version": 3
   },
   "file_extension": ".py",
   "mimetype": "text/x-python",
   "name": "python",
   "nbconvert_exporter": "python",
   "pygments_lexer": "ipython3",
   "version": "3.7.3"
  }
 },
 "nbformat": 4,
 "nbformat_minor": 2
}
